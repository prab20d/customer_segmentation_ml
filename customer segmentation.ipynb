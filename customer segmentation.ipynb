{
 "cells": [
  {
   "cell_type": "markdown",
   "id": "7f84d314",
   "metadata": {},
   "source": [
    "### contents"
   ]
  },
  {
   "cell_type": "raw",
   "id": "2486b518",
   "metadata": {},
   "source": [
    "1. Introduction\n",
    "2. Problem statement\n",
    "3. Installing and importing libraries:\n",
    "    3.1 Installing libraries\n",
    "    3.2 Upgrading libraries\n",
    "    3.3 Importing Libraries\n",
    "4. Data Acquisition & Description:\n",
    "    4.1 Data Description\n",
    "    4.2 Data Information\n",
    "    4.3 Numerical data destribution\n",
    "    4.4 Pre profiling resort\n",
    "    \n",
    "5. Data Pre-processing :\n",
    "    5.1 Identification and handling of missing dtaa \n",
    "    5.2 identification of handling redudant data\n",
    "    5.3 identification and handling of inconsistent data types\n",
    "    5.4 post profiling report\n",
    "    \n",
    "6. Exploratory Data Analysis\n",
    "7. Customer Segmentation Techniques:\n",
    "    7.1 Segmentation using K means\n",
    "    7.2 Segmentation using RFM\n",
    "\n",
    "8. Conclusion"
   ]
  },
  {
   "cell_type": "markdown",
   "id": "f792a5f5",
   "metadata": {},
   "source": [
    "### 1. Introduction "
   ]
  },
  {
   "cell_type": "raw",
   "id": "1ca09b47",
   "metadata": {},
   "source": [
    "Segmenting customers is the process of diving up mass customers into groups with similar needs and wants it can help companies to focus on marketing efforts.\n",
    "so that customer satisfcation and overall profit could be achieved at higher rates. segmenation exitst to mitigate the inevitable problems that evolve from a \"one size fits all\" approach best in class suppliers develops different types of segmenrarion to undersatnd how to create  position .\n",
    "and communicate the values of the offering to address the different needs requires in differemt customer segments .\n",
    "\n",
    "many companies adopts different segmentation schemes. that is often develop best but static. market trends evolve over time it may grow decline or disappear wiuthin certain time period due to number of reasons the demographics trend.\n",
    "technological advancement economics cuycles."
   ]
  },
  {
   "cell_type": "markdown",
   "id": "a6e49919",
   "metadata": {},
   "source": [
    "### 2. Problem Statement "
   ]
  },
  {
   "cell_type": "raw",
   "id": "cb4e07b1",
   "metadata": {},
   "source": [
    "\n",
    "At some point , it becomes impossible to focus on an individual customer and sometimes the communication between customers become comples . we need a way out to understand the customers in structures and shares manner.\n",
    "\n",
    "## scenario \n",
    "Knack Grant is a UK based non store online retail company started in 2009.\n",
    "the company sales mainly sells uniqye all occasion gift ware.\n",
    "many customers of the company are wholesales.\n",
    "the compmay is groing at rapid speed.\n",
    "at the same time they are unable to catch up the customer expectation and maintain healtyhu realtionship i.e. facing in customer relation managemnet CRM .\n",
    "iN ORDER TO TACKEL THIS PROBLEM .\n",
    "THEY HIRED A TEAM OF DATA scientist .\n",
    "they need an automated solution to identify the customers expectation and the future trends so that they can engage with customers in more structure and shared manner leading theirs company to future endavours.\n",
    "\n",
    "note :\n",
    "this problem statement is typrs of unsupervised learning : there is no target t  present in our dtaa.\n",
    "we will clusters customers based on their behavious\n",
    "it will give us approximation about the customer purchasing behviousrs leading to better marketing .\n"
   ]
  },
  {
   "cell_type": "markdown",
   "id": "1b588b36",
   "metadata": {},
   "source": [
    "### 3. Installing and importing libraries"
   ]
  },
  {
   "cell_type": "code",
   "execution_count": 1,
   "id": "0ccaa655",
   "metadata": {},
   "outputs": [],
   "source": [
    "## installing libraires"
   ]
  },
  {
   "cell_type": "raw",
   "id": "4a3c6a72",
   "metadata": {},
   "source": [
    "!pip install -q datascience   # package that is requires by pandas profiling \n",
    "!pip install -q pandas-profiling   # tollbox for genearintg statistics report"
   ]
  },
  {
   "cell_type": "code",
   "execution_count": 3,
   "id": "b8062f82",
   "metadata": {},
   "outputs": [],
   "source": [
    "## upgrading libraires"
   ]
  },
  {
   "cell_type": "raw",
   "id": "6f7d9c04",
   "metadata": {},
   "source": [
    "!pip install -q --upgrade pandas-profiling \n",
    "!pip install -q --upgrade yellobrick"
   ]
  },
  {
   "cell_type": "code",
   "execution_count": 4,
   "id": "f80bd63e",
   "metadata": {},
   "outputs": [],
   "source": [
    "## importing libraries"
   ]
  },
  {
   "cell_type": "code",
   "execution_count": 5,
   "id": "65df09f7",
   "metadata": {},
   "outputs": [],
   "source": [
    "import pandas as pd"
   ]
  },
  {
   "cell_type": "code",
   "execution_count": 6,
   "id": "c767c624",
   "metadata": {},
   "outputs": [],
   "source": [
    "import numpy as np \n",
    "from random import randint\n",
    "from scipy import stats"
   ]
  },
  {
   "cell_type": "code",
   "execution_count": 7,
   "id": "91b3c426",
   "metadata": {},
   "outputs": [],
   "source": [
    "#for date time\n",
    "import datetime\n",
    "from datetime import datetime as dt"
   ]
  },
  {
   "cell_type": "code",
   "execution_count": 8,
   "id": "a0a3b2d5",
   "metadata": {},
   "outputs": [],
   "source": [
    "# for data visualization \n",
    "import matplotlib.pyplot as plt\n",
    "import matplotlib.cm as cm\n",
    "%matplotlib inline"
   ]
  },
  {
   "cell_type": "code",
   "execution_count": 9,
   "id": "f9a374ff",
   "metadata": {},
   "outputs": [],
   "source": [
    "# from pandas_profiling import ProfileReport\n",
    "import seaborn as sns\n",
    "import plotly.express as px\n",
    "from plotly.offline import plot\n",
    "import plotly.graph_objects as go\n",
    "from plotly.subplots import make_subplots"
   ]
  },
  {
   "cell_type": "code",
   "execution_count": 10,
   "id": "f78a2764",
   "metadata": {},
   "outputs": [],
   "source": [
    "# for data modeling \n",
    "from sklearn.cluster import KMeans"
   ]
  },
  {
   "cell_type": "code",
   "execution_count": 11,
   "id": "dc80195a",
   "metadata": {},
   "outputs": [],
   "source": [
    "# to disable warnings\n",
    "import warnings\n",
    "warnings.filterwarnings(action=\"ignore\")"
   ]
  },
  {
   "cell_type": "markdown",
   "id": "69c729ba",
   "metadata": {},
   "source": [
    "### 4. Data Acquisition and wrangling "
   ]
  },
  {
   "cell_type": "raw",
   "id": "7d1e7d44",
   "metadata": {},
   "source": [
    "this dataset is based on online transaction between 1-12-2017 to 09-12-2019 and accesible her "
   ]
  },
  {
   "cell_type": "code",
   "execution_count": 12,
   "id": "435b3d49",
   "metadata": {},
   "outputs": [
    {
     "data": {
      "text/plain": [
       "'C:\\\\dec_end\\\\ml_project\\\\Classification\\\\customer_segmentation\\\\Dataset\\\\data.csv'"
      ]
     },
     "execution_count": 12,
     "metadata": {},
     "output_type": "execute_result"
    }
   ],
   "source": [
    "import os \n",
    "folder=r'C:\\dec_end\\ml_project\\Classification\\customer_segmentation\\Dataset'\n",
    "file=r'data.csv'\n",
    "path=os.path.join(folder,file)\n",
    "path"
   ]
  },
  {
   "cell_type": "code",
   "execution_count": 13,
   "id": "8f789bce",
   "metadata": {},
   "outputs": [
    {
     "ename": "UnicodeDecodeError",
     "evalue": "'utf-8' codec can't decode byte 0xa3 in position 79780: invalid start byte",
     "output_type": "error",
     "traceback": [
      "\u001b[1;31m---------------------------------------------------------------------------\u001b[0m",
      "\u001b[1;31mUnicodeDecodeError\u001b[0m                        Traceback (most recent call last)",
      "Input \u001b[1;32mIn [13]\u001b[0m, in \u001b[0;36m<cell line: 1>\u001b[1;34m()\u001b[0m\n\u001b[1;32m----> 1\u001b[0m data\u001b[38;5;241m=\u001b[39m\u001b[43mpd\u001b[49m\u001b[38;5;241;43m.\u001b[39;49m\u001b[43mread_csv\u001b[49m\u001b[43m(\u001b[49m\u001b[43mpath\u001b[49m\u001b[43m)\u001b[49m\n",
      "File \u001b[1;32m~\\anaconda3\\lib\\site-packages\\pandas\\util\\_decorators.py:311\u001b[0m, in \u001b[0;36mdeprecate_nonkeyword_arguments.<locals>.decorate.<locals>.wrapper\u001b[1;34m(*args, **kwargs)\u001b[0m\n\u001b[0;32m    305\u001b[0m \u001b[38;5;28;01mif\u001b[39;00m \u001b[38;5;28mlen\u001b[39m(args) \u001b[38;5;241m>\u001b[39m num_allow_args:\n\u001b[0;32m    306\u001b[0m     warnings\u001b[38;5;241m.\u001b[39mwarn(\n\u001b[0;32m    307\u001b[0m         msg\u001b[38;5;241m.\u001b[39mformat(arguments\u001b[38;5;241m=\u001b[39marguments),\n\u001b[0;32m    308\u001b[0m         \u001b[38;5;167;01mFutureWarning\u001b[39;00m,\n\u001b[0;32m    309\u001b[0m         stacklevel\u001b[38;5;241m=\u001b[39mstacklevel,\n\u001b[0;32m    310\u001b[0m     )\n\u001b[1;32m--> 311\u001b[0m \u001b[38;5;28;01mreturn\u001b[39;00m func(\u001b[38;5;241m*\u001b[39margs, \u001b[38;5;241m*\u001b[39m\u001b[38;5;241m*\u001b[39mkwargs)\n",
      "File \u001b[1;32m~\\anaconda3\\lib\\site-packages\\pandas\\io\\parsers\\readers.py:680\u001b[0m, in \u001b[0;36mread_csv\u001b[1;34m(filepath_or_buffer, sep, delimiter, header, names, index_col, usecols, squeeze, prefix, mangle_dupe_cols, dtype, engine, converters, true_values, false_values, skipinitialspace, skiprows, skipfooter, nrows, na_values, keep_default_na, na_filter, verbose, skip_blank_lines, parse_dates, infer_datetime_format, keep_date_col, date_parser, dayfirst, cache_dates, iterator, chunksize, compression, thousands, decimal, lineterminator, quotechar, quoting, doublequote, escapechar, comment, encoding, encoding_errors, dialect, error_bad_lines, warn_bad_lines, on_bad_lines, delim_whitespace, low_memory, memory_map, float_precision, storage_options)\u001b[0m\n\u001b[0;32m    665\u001b[0m kwds_defaults \u001b[38;5;241m=\u001b[39m _refine_defaults_read(\n\u001b[0;32m    666\u001b[0m     dialect,\n\u001b[0;32m    667\u001b[0m     delimiter,\n\u001b[1;32m   (...)\u001b[0m\n\u001b[0;32m    676\u001b[0m     defaults\u001b[38;5;241m=\u001b[39m{\u001b[38;5;124m\"\u001b[39m\u001b[38;5;124mdelimiter\u001b[39m\u001b[38;5;124m\"\u001b[39m: \u001b[38;5;124m\"\u001b[39m\u001b[38;5;124m,\u001b[39m\u001b[38;5;124m\"\u001b[39m},\n\u001b[0;32m    677\u001b[0m )\n\u001b[0;32m    678\u001b[0m kwds\u001b[38;5;241m.\u001b[39mupdate(kwds_defaults)\n\u001b[1;32m--> 680\u001b[0m \u001b[38;5;28;01mreturn\u001b[39;00m \u001b[43m_read\u001b[49m\u001b[43m(\u001b[49m\u001b[43mfilepath_or_buffer\u001b[49m\u001b[43m,\u001b[49m\u001b[43m \u001b[49m\u001b[43mkwds\u001b[49m\u001b[43m)\u001b[49m\n",
      "File \u001b[1;32m~\\anaconda3\\lib\\site-packages\\pandas\\io\\parsers\\readers.py:581\u001b[0m, in \u001b[0;36m_read\u001b[1;34m(filepath_or_buffer, kwds)\u001b[0m\n\u001b[0;32m    578\u001b[0m     \u001b[38;5;28;01mreturn\u001b[39;00m parser\n\u001b[0;32m    580\u001b[0m \u001b[38;5;28;01mwith\u001b[39;00m parser:\n\u001b[1;32m--> 581\u001b[0m     \u001b[38;5;28;01mreturn\u001b[39;00m \u001b[43mparser\u001b[49m\u001b[38;5;241;43m.\u001b[39;49m\u001b[43mread\u001b[49m\u001b[43m(\u001b[49m\u001b[43mnrows\u001b[49m\u001b[43m)\u001b[49m\n",
      "File \u001b[1;32m~\\anaconda3\\lib\\site-packages\\pandas\\io\\parsers\\readers.py:1254\u001b[0m, in \u001b[0;36mTextFileReader.read\u001b[1;34m(self, nrows)\u001b[0m\n\u001b[0;32m   1252\u001b[0m nrows \u001b[38;5;241m=\u001b[39m validate_integer(\u001b[38;5;124m\"\u001b[39m\u001b[38;5;124mnrows\u001b[39m\u001b[38;5;124m\"\u001b[39m, nrows)\n\u001b[0;32m   1253\u001b[0m \u001b[38;5;28;01mtry\u001b[39;00m:\n\u001b[1;32m-> 1254\u001b[0m     index, columns, col_dict \u001b[38;5;241m=\u001b[39m \u001b[38;5;28;43mself\u001b[39;49m\u001b[38;5;241;43m.\u001b[39;49m\u001b[43m_engine\u001b[49m\u001b[38;5;241;43m.\u001b[39;49m\u001b[43mread\u001b[49m\u001b[43m(\u001b[49m\u001b[43mnrows\u001b[49m\u001b[43m)\u001b[49m\n\u001b[0;32m   1255\u001b[0m \u001b[38;5;28;01mexcept\u001b[39;00m \u001b[38;5;167;01mException\u001b[39;00m:\n\u001b[0;32m   1256\u001b[0m     \u001b[38;5;28mself\u001b[39m\u001b[38;5;241m.\u001b[39mclose()\n",
      "File \u001b[1;32m~\\anaconda3\\lib\\site-packages\\pandas\\io\\parsers\\c_parser_wrapper.py:225\u001b[0m, in \u001b[0;36mCParserWrapper.read\u001b[1;34m(self, nrows)\u001b[0m\n\u001b[0;32m    223\u001b[0m \u001b[38;5;28;01mtry\u001b[39;00m:\n\u001b[0;32m    224\u001b[0m     \u001b[38;5;28;01mif\u001b[39;00m \u001b[38;5;28mself\u001b[39m\u001b[38;5;241m.\u001b[39mlow_memory:\n\u001b[1;32m--> 225\u001b[0m         chunks \u001b[38;5;241m=\u001b[39m \u001b[38;5;28;43mself\u001b[39;49m\u001b[38;5;241;43m.\u001b[39;49m\u001b[43m_reader\u001b[49m\u001b[38;5;241;43m.\u001b[39;49m\u001b[43mread_low_memory\u001b[49m\u001b[43m(\u001b[49m\u001b[43mnrows\u001b[49m\u001b[43m)\u001b[49m\n\u001b[0;32m    226\u001b[0m         \u001b[38;5;66;03m# destructive to chunks\u001b[39;00m\n\u001b[0;32m    227\u001b[0m         data \u001b[38;5;241m=\u001b[39m _concatenate_chunks(chunks)\n",
      "File \u001b[1;32m~\\anaconda3\\lib\\site-packages\\pandas\\_libs\\parsers.pyx:805\u001b[0m, in \u001b[0;36mpandas._libs.parsers.TextReader.read_low_memory\u001b[1;34m()\u001b[0m\n",
      "File \u001b[1;32m~\\anaconda3\\lib\\site-packages\\pandas\\_libs\\parsers.pyx:861\u001b[0m, in \u001b[0;36mpandas._libs.parsers.TextReader._read_rows\u001b[1;34m()\u001b[0m\n",
      "File \u001b[1;32m~\\anaconda3\\lib\\site-packages\\pandas\\_libs\\parsers.pyx:847\u001b[0m, in \u001b[0;36mpandas._libs.parsers.TextReader._tokenize_rows\u001b[1;34m()\u001b[0m\n",
      "File \u001b[1;32m~\\anaconda3\\lib\\site-packages\\pandas\\_libs\\parsers.pyx:1952\u001b[0m, in \u001b[0;36mpandas._libs.parsers.raise_parser_error\u001b[1;34m()\u001b[0m\n",
      "\u001b[1;31mUnicodeDecodeError\u001b[0m: 'utf-8' codec can't decode byte 0xa3 in position 79780: invalid start byte"
     ]
    }
   ],
   "source": [
    "data=pd.read_csv(path)"
   ]
  },
  {
   "cell_type": "code",
   "execution_count": 16,
   "id": "975249f3",
   "metadata": {},
   "outputs": [],
   "source": [
    "data=pd.read_csv(path,delimiter=',', encoding = \"ISO-8859-1\") "
   ]
  },
  {
   "cell_type": "raw",
   "id": "d19fbc0b",
   "metadata": {},
   "source": [
    "# for link \n",
    "\n",
    "link =\"url\"\n",
    "\n",
    "def load_data(Link=link):\n",
    "    return pd.read_csv(filepath_or_buffer=link)"
   ]
  },
  {
   "cell_type": "raw",
   "id": "edbb6665",
   "metadata": {},
   "source": [
    "data=load_data()\n",
    "print(data.shape)\n",
    "data.head()"
   ]
  },
  {
   "cell_type": "code",
   "execution_count": 17,
   "id": "7833faa6",
   "metadata": {},
   "outputs": [
    {
     "data": {
      "text/html": [
       "<div>\n",
       "<style scoped>\n",
       "    .dataframe tbody tr th:only-of-type {\n",
       "        vertical-align: middle;\n",
       "    }\n",
       "\n",
       "    .dataframe tbody tr th {\n",
       "        vertical-align: top;\n",
       "    }\n",
       "\n",
       "    .dataframe thead th {\n",
       "        text-align: right;\n",
       "    }\n",
       "</style>\n",
       "<table border=\"1\" class=\"dataframe\">\n",
       "  <thead>\n",
       "    <tr style=\"text-align: right;\">\n",
       "      <th></th>\n",
       "      <th>InvoiceNo</th>\n",
       "      <th>StockCode</th>\n",
       "      <th>Description</th>\n",
       "      <th>Quantity</th>\n",
       "      <th>InvoiceDate</th>\n",
       "      <th>UnitPrice</th>\n",
       "      <th>CustomerID</th>\n",
       "      <th>Country</th>\n",
       "    </tr>\n",
       "  </thead>\n",
       "  <tbody>\n",
       "    <tr>\n",
       "      <th>0</th>\n",
       "      <td>536365</td>\n",
       "      <td>85123A</td>\n",
       "      <td>WHITE HANGING HEART T-LIGHT HOLDER</td>\n",
       "      <td>6</td>\n",
       "      <td>12/1/2010 8:26</td>\n",
       "      <td>2.55</td>\n",
       "      <td>17850.0</td>\n",
       "      <td>United Kingdom</td>\n",
       "    </tr>\n",
       "    <tr>\n",
       "      <th>1</th>\n",
       "      <td>536365</td>\n",
       "      <td>71053</td>\n",
       "      <td>WHITE METAL LANTERN</td>\n",
       "      <td>6</td>\n",
       "      <td>12/1/2010 8:26</td>\n",
       "      <td>3.39</td>\n",
       "      <td>17850.0</td>\n",
       "      <td>United Kingdom</td>\n",
       "    </tr>\n",
       "    <tr>\n",
       "      <th>2</th>\n",
       "      <td>536365</td>\n",
       "      <td>84406B</td>\n",
       "      <td>CREAM CUPID HEARTS COAT HANGER</td>\n",
       "      <td>8</td>\n",
       "      <td>12/1/2010 8:26</td>\n",
       "      <td>2.75</td>\n",
       "      <td>17850.0</td>\n",
       "      <td>United Kingdom</td>\n",
       "    </tr>\n",
       "    <tr>\n",
       "      <th>3</th>\n",
       "      <td>536365</td>\n",
       "      <td>84029G</td>\n",
       "      <td>KNITTED UNION FLAG HOT WATER BOTTLE</td>\n",
       "      <td>6</td>\n",
       "      <td>12/1/2010 8:26</td>\n",
       "      <td>3.39</td>\n",
       "      <td>17850.0</td>\n",
       "      <td>United Kingdom</td>\n",
       "    </tr>\n",
       "    <tr>\n",
       "      <th>4</th>\n",
       "      <td>536365</td>\n",
       "      <td>84029E</td>\n",
       "      <td>RED WOOLLY HOTTIE WHITE HEART.</td>\n",
       "      <td>6</td>\n",
       "      <td>12/1/2010 8:26</td>\n",
       "      <td>3.39</td>\n",
       "      <td>17850.0</td>\n",
       "      <td>United Kingdom</td>\n",
       "    </tr>\n",
       "  </tbody>\n",
       "</table>\n",
       "</div>"
      ],
      "text/plain": [
       "  InvoiceNo StockCode                          Description  Quantity  \\\n",
       "0    536365    85123A   WHITE HANGING HEART T-LIGHT HOLDER         6   \n",
       "1    536365     71053                  WHITE METAL LANTERN         6   \n",
       "2    536365    84406B       CREAM CUPID HEARTS COAT HANGER         8   \n",
       "3    536365    84029G  KNITTED UNION FLAG HOT WATER BOTTLE         6   \n",
       "4    536365    84029E       RED WOOLLY HOTTIE WHITE HEART.         6   \n",
       "\n",
       "      InvoiceDate  UnitPrice  CustomerID         Country  \n",
       "0  12/1/2010 8:26       2.55     17850.0  United Kingdom  \n",
       "1  12/1/2010 8:26       3.39     17850.0  United Kingdom  \n",
       "2  12/1/2010 8:26       2.75     17850.0  United Kingdom  \n",
       "3  12/1/2010 8:26       3.39     17850.0  United Kingdom  \n",
       "4  12/1/2010 8:26       3.39     17850.0  United Kingdom  "
      ]
     },
     "execution_count": 17,
     "metadata": {},
     "output_type": "execute_result"
    }
   ],
   "source": [
    "data.head()"
   ]
  },
  {
   "cell_type": "code",
   "execution_count": 18,
   "id": "38a516f0",
   "metadata": {},
   "outputs": [
    {
     "data": {
      "text/plain": [
       "(541909, 8)"
      ]
     },
     "execution_count": 18,
     "metadata": {},
     "output_type": "execute_result"
    }
   ],
   "source": [
    "data.shape"
   ]
  },
  {
   "cell_type": "markdown",
   "id": "0a76f6a0",
   "metadata": {},
   "source": [
    "### 4.1 data description"
   ]
  },
  {
   "cell_type": "raw",
   "id": "29d639fe",
   "metadata": {},
   "source": [
    "in this section we will get the information about the data and see some observations."
   ]
  },
  {
   "cell_type": "code",
   "execution_count": 19,
   "id": "fd82298d",
   "metadata": {},
   "outputs": [
    {
     "name": "stdout",
     "output_type": "stream",
     "text": [
      "Described column length  3\n"
     ]
    },
    {
     "data": {
      "text/html": [
       "<div>\n",
       "<style scoped>\n",
       "    .dataframe tbody tr th:only-of-type {\n",
       "        vertical-align: middle;\n",
       "    }\n",
       "\n",
       "    .dataframe tbody tr th {\n",
       "        vertical-align: top;\n",
       "    }\n",
       "\n",
       "    .dataframe thead th {\n",
       "        text-align: right;\n",
       "    }\n",
       "</style>\n",
       "<table border=\"1\" class=\"dataframe\">\n",
       "  <thead>\n",
       "    <tr style=\"text-align: right;\">\n",
       "      <th></th>\n",
       "      <th>Quantity</th>\n",
       "      <th>UnitPrice</th>\n",
       "      <th>CustomerID</th>\n",
       "    </tr>\n",
       "  </thead>\n",
       "  <tbody>\n",
       "    <tr>\n",
       "      <th>count</th>\n",
       "      <td>541909.000000</td>\n",
       "      <td>541909.000000</td>\n",
       "      <td>406829.000000</td>\n",
       "    </tr>\n",
       "    <tr>\n",
       "      <th>mean</th>\n",
       "      <td>9.552250</td>\n",
       "      <td>4.611114</td>\n",
       "      <td>15287.690570</td>\n",
       "    </tr>\n",
       "    <tr>\n",
       "      <th>std</th>\n",
       "      <td>218.081158</td>\n",
       "      <td>96.759853</td>\n",
       "      <td>1713.600303</td>\n",
       "    </tr>\n",
       "    <tr>\n",
       "      <th>min</th>\n",
       "      <td>-80995.000000</td>\n",
       "      <td>-11062.060000</td>\n",
       "      <td>12346.000000</td>\n",
       "    </tr>\n",
       "    <tr>\n",
       "      <th>25%</th>\n",
       "      <td>1.000000</td>\n",
       "      <td>1.250000</td>\n",
       "      <td>13953.000000</td>\n",
       "    </tr>\n",
       "    <tr>\n",
       "      <th>50%</th>\n",
       "      <td>3.000000</td>\n",
       "      <td>2.080000</td>\n",
       "      <td>15152.000000</td>\n",
       "    </tr>\n",
       "    <tr>\n",
       "      <th>75%</th>\n",
       "      <td>10.000000</td>\n",
       "      <td>4.130000</td>\n",
       "      <td>16791.000000</td>\n",
       "    </tr>\n",
       "    <tr>\n",
       "      <th>max</th>\n",
       "      <td>80995.000000</td>\n",
       "      <td>38970.000000</td>\n",
       "      <td>18287.000000</td>\n",
       "    </tr>\n",
       "  </tbody>\n",
       "</table>\n",
       "</div>"
      ],
      "text/plain": [
       "            Quantity      UnitPrice     CustomerID\n",
       "count  541909.000000  541909.000000  406829.000000\n",
       "mean        9.552250       4.611114   15287.690570\n",
       "std       218.081158      96.759853    1713.600303\n",
       "min    -80995.000000  -11062.060000   12346.000000\n",
       "25%         1.000000       1.250000   13953.000000\n",
       "50%         3.000000       2.080000   15152.000000\n",
       "75%        10.000000       4.130000   16791.000000\n",
       "max     80995.000000   38970.000000   18287.000000"
      ]
     },
     "execution_count": 19,
     "metadata": {},
     "output_type": "execute_result"
    }
   ],
   "source": [
    "print(\"Described column length \",len(data.describe().columns))\n",
    "data.describe()"
   ]
  },
  {
   "cell_type": "markdown",
   "id": "f020311c",
   "metadata": {},
   "source": [
    "####  observation "
   ]
  },
  {
   "cell_type": "raw",
   "id": "c8202654",
   "metadata": {},
   "source": [
    "1. on average customers had bought around quantity of 10 of each product items \n",
    "2. 25% of customers bought product item with <= unit quantity , \n",
    "   50% bought <3 and 75% bough <=10 items \n",
    "3. average price of transacted items was rs.4.64 pounds\n",
    "4. 25% of prdouct itme had price of 1.25 pounds with 50% and 75% of items had proice of rs 2.1 pounds and 4.15 pounds "
   ]
  },
  {
   "cell_type": "markdown",
   "id": "a325fbea",
   "metadata": {},
   "source": [
    "### 5.1 null and missing data"
   ]
  },
  {
   "cell_type": "code",
   "execution_count": 20,
   "id": "6dfc5567",
   "metadata": {},
   "outputs": [
    {
     "data": {
      "text/html": [
       "<div>\n",
       "<style scoped>\n",
       "    .dataframe tbody tr th:only-of-type {\n",
       "        vertical-align: middle;\n",
       "    }\n",
       "\n",
       "    .dataframe tbody tr th {\n",
       "        vertical-align: top;\n",
       "    }\n",
       "\n",
       "    .dataframe thead th {\n",
       "        text-align: right;\n",
       "    }\n",
       "</style>\n",
       "<table border=\"1\" class=\"dataframe\">\n",
       "  <thead>\n",
       "    <tr style=\"text-align: right;\">\n",
       "      <th></th>\n",
       "      <th>InvoiceNo</th>\n",
       "      <th>StockCode</th>\n",
       "      <th>Description</th>\n",
       "      <th>Quantity</th>\n",
       "      <th>InvoiceDate</th>\n",
       "      <th>UnitPrice</th>\n",
       "      <th>CustomerID</th>\n",
       "      <th>Country</th>\n",
       "    </tr>\n",
       "  </thead>\n",
       "  <tbody>\n",
       "    <tr>\n",
       "      <th>Null Frequency</th>\n",
       "      <td>0.0</td>\n",
       "      <td>0.0</td>\n",
       "      <td>1454.00</td>\n",
       "      <td>0.0</td>\n",
       "      <td>0.0</td>\n",
       "      <td>0.0</td>\n",
       "      <td>135080.00</td>\n",
       "      <td>0.0</td>\n",
       "    </tr>\n",
       "    <tr>\n",
       "      <th>Missing %age</th>\n",
       "      <td>0.0</td>\n",
       "      <td>0.0</td>\n",
       "      <td>0.27</td>\n",
       "      <td>0.0</td>\n",
       "      <td>0.0</td>\n",
       "      <td>0.0</td>\n",
       "      <td>24.93</td>\n",
       "      <td>0.0</td>\n",
       "    </tr>\n",
       "  </tbody>\n",
       "</table>\n",
       "</div>"
      ],
      "text/plain": [
       "                InvoiceNo  StockCode  Description  Quantity  InvoiceDate  \\\n",
       "Null Frequency        0.0        0.0      1454.00       0.0          0.0   \n",
       "Missing %age          0.0        0.0         0.27       0.0          0.0   \n",
       "\n",
       "                UnitPrice  CustomerID  Country  \n",
       "Null Frequency        0.0   135080.00      0.0  \n",
       "Missing %age          0.0       24.93      0.0  "
      ]
     },
     "execution_count": 20,
     "metadata": {},
     "output_type": "execute_result"
    }
   ],
   "source": [
    "null_frame=pd.DataFrame(index=data.columns.values)\n",
    "null_frame['Null Frequency']=data.isnull().sum().values\n",
    "percent=data.isnull().sum().values/data.shape[0]\n",
    "null_frame['Missing %age']=np.round(percent, decimals=4)*100\n",
    "null_frame.transpose()"
   ]
  },
  {
   "cell_type": "raw",
   "id": "3f901b80",
   "metadata": {},
   "source": [
    "## observation \n",
    "1. features >> problem action requires (reason )\n",
    "2. description >> missing info >> drop records ratio is bvery less wont affect te results\n",
    "3. customer id >> missing information >> drop records (ratio is not high enough as we still have round 50%  into ratin\n",
    "                                                      )"
   ]
  },
  {
   "cell_type": "markdown",
   "id": "a1a69544",
   "metadata": {},
   "source": [
    "## performing operation "
   ]
  },
  {
   "cell_type": "code",
   "execution_count": 21,
   "id": "96134a8c",
   "metadata": {},
   "outputs": [
    {
     "name": "stdout",
     "output_type": "stream",
     "text": [
      "daata shape [before]  (541909, 8)\n",
      "daata shape [after]  (406829, 8)\n"
     ]
    }
   ],
   "source": [
    "print(\"daata shape [before] \", data.shape)\n",
    "data.dropna(axis=0,subset=['Description','CustomerID'],inplace=True)\n",
    "print(\"daata shape [after] \", data.shape)\n"
   ]
  },
  {
   "cell_type": "markdown",
   "id": "ee00c41f",
   "metadata": {},
   "source": [
    "#### after handling null data "
   ]
  },
  {
   "cell_type": "code",
   "execution_count": 22,
   "id": "7db10471",
   "metadata": {},
   "outputs": [
    {
     "data": {
      "text/html": [
       "<div>\n",
       "<style scoped>\n",
       "    .dataframe tbody tr th:only-of-type {\n",
       "        vertical-align: middle;\n",
       "    }\n",
       "\n",
       "    .dataframe tbody tr th {\n",
       "        vertical-align: top;\n",
       "    }\n",
       "\n",
       "    .dataframe thead th {\n",
       "        text-align: right;\n",
       "    }\n",
       "</style>\n",
       "<table border=\"1\" class=\"dataframe\">\n",
       "  <thead>\n",
       "    <tr style=\"text-align: right;\">\n",
       "      <th></th>\n",
       "      <th>InvoiceNo</th>\n",
       "      <th>StockCode</th>\n",
       "      <th>Description</th>\n",
       "      <th>Quantity</th>\n",
       "      <th>InvoiceDate</th>\n",
       "      <th>UnitPrice</th>\n",
       "      <th>CustomerID</th>\n",
       "      <th>Country</th>\n",
       "    </tr>\n",
       "  </thead>\n",
       "  <tbody>\n",
       "    <tr>\n",
       "      <th>Null Frequency</th>\n",
       "      <td>0.0</td>\n",
       "      <td>0.0</td>\n",
       "      <td>0.0</td>\n",
       "      <td>0.0</td>\n",
       "      <td>0.0</td>\n",
       "      <td>0.0</td>\n",
       "      <td>0.0</td>\n",
       "      <td>0.0</td>\n",
       "    </tr>\n",
       "    <tr>\n",
       "      <th>Missing %age</th>\n",
       "      <td>0.0</td>\n",
       "      <td>0.0</td>\n",
       "      <td>0.0</td>\n",
       "      <td>0.0</td>\n",
       "      <td>0.0</td>\n",
       "      <td>0.0</td>\n",
       "      <td>0.0</td>\n",
       "      <td>0.0</td>\n",
       "    </tr>\n",
       "  </tbody>\n",
       "</table>\n",
       "</div>"
      ],
      "text/plain": [
       "                InvoiceNo  StockCode  Description  Quantity  InvoiceDate  \\\n",
       "Null Frequency        0.0        0.0          0.0       0.0          0.0   \n",
       "Missing %age          0.0        0.0          0.0       0.0          0.0   \n",
       "\n",
       "                UnitPrice  CustomerID  Country  \n",
       "Null Frequency        0.0         0.0      0.0  \n",
       "Missing %age          0.0         0.0      0.0  "
      ]
     },
     "execution_count": 22,
     "metadata": {},
     "output_type": "execute_result"
    }
   ],
   "source": [
    "# 5.1 null and missing data\n",
    "# 1\n",
    "null_frame=pd.DataFrame(index=data.columns.values)\n",
    "\n",
    "null_frame['Null Frequency']=data.isnull().sum().values\n",
    "\n",
    "percent=data.isnull().sum().values/data.shape[0]\n",
    "\n",
    "null_frame['Missing %age']=np.round(percent, decimals=4)*100\n",
    "\n",
    "null_frame.transpose()\n"
   ]
  },
  {
   "cell_type": "markdown",
   "id": "48cd430f",
   "metadata": {},
   "source": [
    "we can see that we have eliminated null data successfully."
   ]
  },
  {
   "cell_type": "markdown",
   "id": "51353676",
   "metadata": {},
   "source": [
    "### zero data identificatio and handling "
   ]
  },
  {
   "cell_type": "code",
   "execution_count": 23,
   "id": "a6aea43c",
   "metadata": {},
   "outputs": [
    {
     "data": {
      "text/html": [
       "<div>\n",
       "<style scoped>\n",
       "    .dataframe tbody tr th:only-of-type {\n",
       "        vertical-align: middle;\n",
       "    }\n",
       "\n",
       "    .dataframe tbody tr th {\n",
       "        vertical-align: top;\n",
       "    }\n",
       "\n",
       "    .dataframe thead th {\n",
       "        text-align: right;\n",
       "    }\n",
       "</style>\n",
       "<table border=\"1\" class=\"dataframe\">\n",
       "  <thead>\n",
       "    <tr style=\"text-align: right;\">\n",
       "      <th></th>\n",
       "      <th>InvoiceNo</th>\n",
       "      <th>StockCode</th>\n",
       "      <th>Description</th>\n",
       "      <th>Quantity</th>\n",
       "      <th>InvoiceDate</th>\n",
       "      <th>UnitPrice</th>\n",
       "      <th>CustomerID</th>\n",
       "      <th>Country</th>\n",
       "    </tr>\n",
       "  </thead>\n",
       "  <tbody>\n",
       "    <tr>\n",
       "      <th>Null Frequency</th>\n",
       "      <td>0.0</td>\n",
       "      <td>0.0</td>\n",
       "      <td>0.0</td>\n",
       "      <td>0.0</td>\n",
       "      <td>0.0</td>\n",
       "      <td>40.00</td>\n",
       "      <td>0.0</td>\n",
       "      <td>0.0</td>\n",
       "    </tr>\n",
       "    <tr>\n",
       "      <th>Missing %age</th>\n",
       "      <td>0.0</td>\n",
       "      <td>0.0</td>\n",
       "      <td>0.0</td>\n",
       "      <td>0.0</td>\n",
       "      <td>0.0</td>\n",
       "      <td>0.01</td>\n",
       "      <td>0.0</td>\n",
       "      <td>0.0</td>\n",
       "    </tr>\n",
       "  </tbody>\n",
       "</table>\n",
       "</div>"
      ],
      "text/plain": [
       "                InvoiceNo  StockCode  Description  Quantity  InvoiceDate  \\\n",
       "Null Frequency        0.0        0.0          0.0       0.0          0.0   \n",
       "Missing %age          0.0        0.0          0.0       0.0          0.0   \n",
       "\n",
       "                UnitPrice  CustomerID  Country  \n",
       "Null Frequency      40.00         0.0      0.0  \n",
       "Missing %age         0.01         0.0      0.0  "
      ]
     },
     "execution_count": 23,
     "metadata": {},
     "output_type": "execute_result"
    }
   ],
   "source": [
    "zero_frame=pd.DataFrame(index=data.columns.values)\n",
    "zero_frame['Null Frequency']=data[data==0].count().values\n",
    "percent=data[data==0].count().values/data.shape[0]\n",
    "zero_frame['Missing %age']=np.round(percent, decimals=4)*100\n",
    "zero_frame.transpose()"
   ]
  },
  {
   "cell_type": "raw",
   "id": "ceb9437b",
   "metadata": {},
   "source": [
    "obeserrvation \n",
    "1.feature \n",
    "proble action requires(reason)\n",
    "2. price>> identifies 41 zeros--drop records (price of product cant be zeros )"
   ]
  },
  {
   "cell_type": "markdown",
   "id": "a9a0a25b",
   "metadata": {},
   "source": [
    "## perfomring operation "
   ]
  },
  {
   "cell_type": "code",
   "execution_count": 24,
   "id": "bf284f26",
   "metadata": {},
   "outputs": [],
   "source": [
    "data=data[data['UnitPrice']!=0]"
   ]
  },
  {
   "cell_type": "code",
   "execution_count": 25,
   "id": "9901a7ac",
   "metadata": {},
   "outputs": [
    {
     "data": {
      "text/html": [
       "<div>\n",
       "<style scoped>\n",
       "    .dataframe tbody tr th:only-of-type {\n",
       "        vertical-align: middle;\n",
       "    }\n",
       "\n",
       "    .dataframe tbody tr th {\n",
       "        vertical-align: top;\n",
       "    }\n",
       "\n",
       "    .dataframe thead th {\n",
       "        text-align: right;\n",
       "    }\n",
       "</style>\n",
       "<table border=\"1\" class=\"dataframe\">\n",
       "  <thead>\n",
       "    <tr style=\"text-align: right;\">\n",
       "      <th></th>\n",
       "      <th>InvoiceNo</th>\n",
       "      <th>StockCode</th>\n",
       "      <th>Description</th>\n",
       "      <th>Quantity</th>\n",
       "      <th>InvoiceDate</th>\n",
       "      <th>UnitPrice</th>\n",
       "      <th>CustomerID</th>\n",
       "      <th>Country</th>\n",
       "    </tr>\n",
       "  </thead>\n",
       "  <tbody>\n",
       "    <tr>\n",
       "      <th>Null Frequency</th>\n",
       "      <td>0.0</td>\n",
       "      <td>0.0</td>\n",
       "      <td>0.0</td>\n",
       "      <td>0.0</td>\n",
       "      <td>0.0</td>\n",
       "      <td>0.0</td>\n",
       "      <td>0.0</td>\n",
       "      <td>0.0</td>\n",
       "    </tr>\n",
       "    <tr>\n",
       "      <th>Missing %age</th>\n",
       "      <td>0.0</td>\n",
       "      <td>0.0</td>\n",
       "      <td>0.0</td>\n",
       "      <td>0.0</td>\n",
       "      <td>0.0</td>\n",
       "      <td>0.0</td>\n",
       "      <td>0.0</td>\n",
       "      <td>0.0</td>\n",
       "    </tr>\n",
       "  </tbody>\n",
       "</table>\n",
       "</div>"
      ],
      "text/plain": [
       "                InvoiceNo  StockCode  Description  Quantity  InvoiceDate  \\\n",
       "Null Frequency        0.0        0.0          0.0       0.0          0.0   \n",
       "Missing %age          0.0        0.0          0.0       0.0          0.0   \n",
       "\n",
       "                UnitPrice  CustomerID  Country  \n",
       "Null Frequency        0.0         0.0      0.0  \n",
       "Missing %age          0.0         0.0      0.0  "
      ]
     },
     "execution_count": 25,
     "metadata": {},
     "output_type": "execute_result"
    }
   ],
   "source": [
    "zero_frame=pd.DataFrame(index=data.columns.values)\n",
    "zero_frame['Null Frequency']=data[data==0].count().values\n",
    "percent=data[data==0].count().values/data.shape[0]\n",
    "zero_frame['Missing %age']=np.round(percent, decimals=4)*100\n",
    "zero_frame.transpose()"
   ]
  },
  {
   "cell_type": "raw",
   "id": "248facf4",
   "metadata": {},
   "source": [
    "now we have eliminated zero data successfully "
   ]
  },
  {
   "cell_type": "markdown",
   "id": "0723e05e",
   "metadata": {},
   "source": [
    "### 5.2 indentification and handling of redudant data "
   ]
  },
  {
   "cell_type": "raw",
   "id": "4a5fee37",
   "metadata": {},
   "source": [
    "in this section we will identify rows and columns in our dtaa if present \n",
    "before we will make a copy of our data and analyze the effect\n",
    "later down all the changes will be introduce in the original data.\n"
   ]
  },
  {
   "cell_type": "code",
   "execution_count": 26,
   "id": "4d283ce1",
   "metadata": {},
   "outputs": [],
   "source": [
    "### identification and handling of redudant records"
   ]
  },
  {
   "cell_type": "code",
   "execution_count": 27,
   "id": "09d5cdd2",
   "metadata": {},
   "outputs": [],
   "source": [
    "data_copy=data.copy()"
   ]
  },
  {
   "cell_type": "code",
   "execution_count": 28,
   "id": "b0b0af68",
   "metadata": {},
   "outputs": [],
   "source": [
    "## before handling  duplicated rows "
   ]
  },
  {
   "cell_type": "code",
   "execution_count": 29,
   "id": "65f8d8cd",
   "metadata": {},
   "outputs": [
    {
     "name": "stdout",
     "output_type": "stream",
     "text": [
      "contains redudant records  True\n",
      "duplicates count 5225\n",
      "data shape (406789, 8)\n"
     ]
    }
   ],
   "source": [
    "print(\"contains redudant records \",data_copy.duplicated().any())\n",
    "print(\"duplicates count\",data_copy.duplicated().sum())\n",
    "print(\"data shape\",data_copy.shape)"
   ]
  },
  {
   "cell_type": "markdown",
   "id": "7cf2517d",
   "metadata": {},
   "source": [
    "## observation "
   ]
  },
  {
   "cell_type": "raw",
   "id": "e4393895",
   "metadata": {},
   "source": [
    "it turns out that there are 5225 duplicated rows present in our data.\n",
    "we will drop these records as they are not useful for analysis and model development."
   ]
  },
  {
   "cell_type": "code",
   "execution_count": 30,
   "id": "4549820f",
   "metadata": {},
   "outputs": [
    {
     "name": "stdout",
     "output_type": "stream",
     "text": [
      "data shape['before'] (406789, 8)\n",
      "data shape['acfter' ] (401564, 8)\n",
      "drop ratio 0.99\n"
     ]
    }
   ],
   "source": [
    "before_shape=data_copy.shape\n",
    "print(\"data shape['before']\",before_shape)\n",
    "\n",
    "data_copy.drop_duplicates(inplace=True)\n",
    "\n",
    "after_shape=data_copy.shape\n",
    "print(\"data shape['acfter' ]\",after_shape)\n",
    "\n",
    "drop_percent =after_shape[0]/before_shape[0]\n",
    "print(\"drop ratio\",np.round(drop_percent,decimals=2))"
   ]
  },
  {
   "cell_type": "markdown",
   "id": "ecce624c",
   "metadata": {},
   "source": [
    "## after handling duplicate drows "
   ]
  },
  {
   "cell_type": "code",
   "execution_count": 31,
   "id": "8b631426",
   "metadata": {},
   "outputs": [
    {
     "name": "stdout",
     "output_type": "stream",
     "text": [
      "conatins redudant records  False\n",
      "duplicated count 0\n",
      "data shape (401564, 8)\n"
     ]
    }
   ],
   "source": [
    "print('conatins redudant records ',data_copy.duplicated().any())\n",
    "print('duplicated count',data_copy.duplicated().sum())\n",
    "print('data shape',data_copy.shape)"
   ]
  },
  {
   "cell_type": "markdown",
   "id": "50628e7e",
   "metadata": {},
   "source": [
    "## applying all oper on original data"
   ]
  },
  {
   "cell_type": "code",
   "execution_count": 32,
   "id": "66d78eec",
   "metadata": {},
   "outputs": [
    {
     "name": "stdout",
     "output_type": "stream",
     "text": [
      "data shape['before'] (406789, 8)\n",
      "data shape['acfter' ] (401564, 8)\n",
      "drop ratio 0.99\n",
      "contains redudant records  False\n"
     ]
    }
   ],
   "source": [
    "before_shape=data.shape\n",
    "print(\"data shape['before']\",before_shape)\n",
    "\n",
    "data.drop_duplicates(inplace=True)\n",
    "\n",
    "after_shape=data.shape\n",
    "print(\"data shape['acfter' ]\",after_shape)\n",
    "\n",
    "drop_percent =after_shape[0]/before_shape[0]\n",
    "print(\"drop ratio\",np.round(drop_percent,decimals=2))\n",
    "\n",
    "print(\"contains redudant records \",data.duplicated().any())"
   ]
  },
  {
   "cell_type": "raw",
   "id": "de8bce19",
   "metadata": {},
   "source": [
    "## identification and handling redudant features "
   ]
  },
  {
   "cell_type": "raw",
   "id": "2c1f8080",
   "metadata": {},
   "source": [
    "for handlung duplicates feature we have created a ccutsom function to identify in feature with differnt name but siminal value below"
   ]
  },
  {
   "cell_type": "code",
   "execution_count": 33,
   "id": "32906aed",
   "metadata": {},
   "outputs": [],
   "source": [
    "def duplicate_cols(dataframe):\n",
    "    ls1=[]\n",
    "    ls2=[]\n",
    "    \n",
    "    columns=dataframe.columns.values\n",
    "    for i in range(0, len(columns)):\n",
    "        for j in range(i+1, len(columns)):\n",
    "            if (np.where(dataframe[columns[i]]==dataframe[columns[j]],True,False).all()==True):\n",
    "                ls1.append(columns[i])\n",
    "                ls2.append(columns[j])\n",
    "            \n",
    "    if ((len(ls1)==0)&(len(ls2)==0)):\n",
    "        return None\n",
    "    else:\n",
    "        duplicate_frame=pd.DataFrame()\n",
    "        duplicate_frame['Feature 1']=ls1\n",
    "        duplicate_frame['Feature 2']=ls2\n",
    "        return duplicate_frame\n",
    "        "
   ]
  },
  {
   "cell_type": "code",
   "execution_count": 34,
   "id": "cd15fef1",
   "metadata": {},
   "outputs": [
    {
     "name": "stdout",
     "output_type": "stream",
     "text": [
      "None\n"
     ]
    }
   ],
   "source": [
    "print(duplicate_cols(data_copy))"
   ]
  },
  {
   "cell_type": "raw",
   "id": "e60dda69",
   "metadata": {},
   "source": [
    "observation :  it turns out that there are no duplicates columns present in our data."
   ]
  },
  {
   "cell_type": "markdown",
   "id": "c6e97756",
   "metadata": {},
   "source": [
    "## identification and handling of inconsisgent data types"
   ]
  },
  {
   "cell_type": "raw",
   "id": "7c388b26",
   "metadata": {},
   "source": [
    "before changes : respective data type per features "
   ]
  },
  {
   "cell_type": "code",
   "execution_count": 35,
   "id": "96171cac",
   "metadata": {},
   "outputs": [
    {
     "data": {
      "text/html": [
       "<div>\n",
       "<style scoped>\n",
       "    .dataframe tbody tr th:only-of-type {\n",
       "        vertical-align: middle;\n",
       "    }\n",
       "\n",
       "    .dataframe tbody tr th {\n",
       "        vertical-align: top;\n",
       "    }\n",
       "\n",
       "    .dataframe thead th {\n",
       "        text-align: right;\n",
       "    }\n",
       "</style>\n",
       "<table border=\"1\" class=\"dataframe\">\n",
       "  <thead>\n",
       "    <tr style=\"text-align: right;\">\n",
       "      <th></th>\n",
       "      <th>InvoiceNo</th>\n",
       "      <th>StockCode</th>\n",
       "      <th>Description</th>\n",
       "      <th>Quantity</th>\n",
       "      <th>InvoiceDate</th>\n",
       "      <th>UnitPrice</th>\n",
       "      <th>CustomerID</th>\n",
       "      <th>Country</th>\n",
       "    </tr>\n",
       "  </thead>\n",
       "  <tbody>\n",
       "    <tr>\n",
       "      <th>Type</th>\n",
       "      <td>object</td>\n",
       "      <td>object</td>\n",
       "      <td>object</td>\n",
       "      <td>int64</td>\n",
       "      <td>object</td>\n",
       "      <td>float64</td>\n",
       "      <td>float64</td>\n",
       "      <td>object</td>\n",
       "    </tr>\n",
       "  </tbody>\n",
       "</table>\n",
       "</div>"
      ],
      "text/plain": [
       "     InvoiceNo StockCode Description Quantity InvoiceDate UnitPrice  \\\n",
       "Type    object    object      object    int64      object   float64   \n",
       "\n",
       "     CustomerID Country  \n",
       "Type    float64  object  "
      ]
     },
     "execution_count": 35,
     "metadata": {},
     "output_type": "execute_result"
    }
   ],
   "source": [
    "type_frame=pd.DataFrame(data=data.dtypes,columns=['Type'])\n",
    "type_frame.transpose()"
   ]
  },
  {
   "cell_type": "raw",
   "id": "7d4d0a04",
   "metadata": {},
   "source": [
    "observation :\n",
    "    inconsistant feature s:\n",
    "        actual type >>> desired type\n",
    "        \n",
    "invoice date:\n",
    "    object >> datetime\n",
    "\n",
    "customer id :\n",
    "    float >> integer"
   ]
  },
  {
   "cell_type": "code",
   "execution_count": 37,
   "id": "909abf9e",
   "metadata": {},
   "outputs": [],
   "source": [
    "data['CustomerID']=data['CustomerID'].astype(np.int64)\n",
    "# \n",
    "# removing time dactor \n",
    "data['InvoiceDate']=pd.to_datetime(data['InvoiceDate']).apply(dt.date)\n",
    "\n",
    "# transforming object type to datetime\n",
    "data['InvoiceDate']=pd.to_datetime(data['InvoiceDate'])"
   ]
  },
  {
   "cell_type": "code",
   "execution_count": 38,
   "id": "49f51f05",
   "metadata": {},
   "outputs": [],
   "source": [
    "# after changes "
   ]
  },
  {
   "cell_type": "code",
   "execution_count": 39,
   "id": "85e3dc9d",
   "metadata": {},
   "outputs": [
    {
     "data": {
      "text/html": [
       "<div>\n",
       "<style scoped>\n",
       "    .dataframe tbody tr th:only-of-type {\n",
       "        vertical-align: middle;\n",
       "    }\n",
       "\n",
       "    .dataframe tbody tr th {\n",
       "        vertical-align: top;\n",
       "    }\n",
       "\n",
       "    .dataframe thead th {\n",
       "        text-align: right;\n",
       "    }\n",
       "</style>\n",
       "<table border=\"1\" class=\"dataframe\">\n",
       "  <thead>\n",
       "    <tr style=\"text-align: right;\">\n",
       "      <th></th>\n",
       "      <th>InvoiceNo</th>\n",
       "      <th>StockCode</th>\n",
       "      <th>Description</th>\n",
       "      <th>Quantity</th>\n",
       "      <th>InvoiceDate</th>\n",
       "      <th>UnitPrice</th>\n",
       "      <th>CustomerID</th>\n",
       "      <th>Country</th>\n",
       "    </tr>\n",
       "  </thead>\n",
       "  <tbody>\n",
       "    <tr>\n",
       "      <th>Type</th>\n",
       "      <td>object</td>\n",
       "      <td>object</td>\n",
       "      <td>object</td>\n",
       "      <td>int64</td>\n",
       "      <td>datetime64[ns]</td>\n",
       "      <td>float64</td>\n",
       "      <td>int64</td>\n",
       "      <td>object</td>\n",
       "    </tr>\n",
       "  </tbody>\n",
       "</table>\n",
       "</div>"
      ],
      "text/plain": [
       "     InvoiceNo StockCode Description Quantity     InvoiceDate UnitPrice  \\\n",
       "Type    object    object      object    int64  datetime64[ns]   float64   \n",
       "\n",
       "     CustomerID Country  \n",
       "Type      int64  object  "
      ]
     },
     "execution_count": 39,
     "metadata": {},
     "output_type": "execute_result"
    }
   ],
   "source": [
    "type_frame=pd.DataFrame(data=data.dtypes,columns=['Type'])\n",
    "type_frame.transpose()"
   ]
  },
  {
   "cell_type": "markdown",
   "id": "a1617d62",
   "metadata": {},
   "source": [
    "### 5.4 looking at the final data set "
   ]
  },
  {
   "cell_type": "code",
   "execution_count": 40,
   "id": "f439e879",
   "metadata": {},
   "outputs": [
    {
     "name": "stdout",
     "output_type": "stream",
     "text": [
      " final of data: rows 401564 columns 8\n"
     ]
    },
    {
     "data": {
      "text/html": [
       "<div>\n",
       "<style scoped>\n",
       "    .dataframe tbody tr th:only-of-type {\n",
       "        vertical-align: middle;\n",
       "    }\n",
       "\n",
       "    .dataframe tbody tr th {\n",
       "        vertical-align: top;\n",
       "    }\n",
       "\n",
       "    .dataframe thead th {\n",
       "        text-align: right;\n",
       "    }\n",
       "</style>\n",
       "<table border=\"1\" class=\"dataframe\">\n",
       "  <thead>\n",
       "    <tr style=\"text-align: right;\">\n",
       "      <th></th>\n",
       "      <th>InvoiceNo</th>\n",
       "      <th>StockCode</th>\n",
       "      <th>Description</th>\n",
       "      <th>Quantity</th>\n",
       "      <th>InvoiceDate</th>\n",
       "      <th>UnitPrice</th>\n",
       "      <th>CustomerID</th>\n",
       "      <th>Country</th>\n",
       "    </tr>\n",
       "  </thead>\n",
       "  <tbody>\n",
       "    <tr>\n",
       "      <th>0</th>\n",
       "      <td>536365</td>\n",
       "      <td>85123A</td>\n",
       "      <td>WHITE HANGING HEART T-LIGHT HOLDER</td>\n",
       "      <td>6</td>\n",
       "      <td>2010-12-01</td>\n",
       "      <td>2.55</td>\n",
       "      <td>17850</td>\n",
       "      <td>United Kingdom</td>\n",
       "    </tr>\n",
       "    <tr>\n",
       "      <th>1</th>\n",
       "      <td>536365</td>\n",
       "      <td>71053</td>\n",
       "      <td>WHITE METAL LANTERN</td>\n",
       "      <td>6</td>\n",
       "      <td>2010-12-01</td>\n",
       "      <td>3.39</td>\n",
       "      <td>17850</td>\n",
       "      <td>United Kingdom</td>\n",
       "    </tr>\n",
       "    <tr>\n",
       "      <th>2</th>\n",
       "      <td>536365</td>\n",
       "      <td>84406B</td>\n",
       "      <td>CREAM CUPID HEARTS COAT HANGER</td>\n",
       "      <td>8</td>\n",
       "      <td>2010-12-01</td>\n",
       "      <td>2.75</td>\n",
       "      <td>17850</td>\n",
       "      <td>United Kingdom</td>\n",
       "    </tr>\n",
       "    <tr>\n",
       "      <th>3</th>\n",
       "      <td>536365</td>\n",
       "      <td>84029G</td>\n",
       "      <td>KNITTED UNION FLAG HOT WATER BOTTLE</td>\n",
       "      <td>6</td>\n",
       "      <td>2010-12-01</td>\n",
       "      <td>3.39</td>\n",
       "      <td>17850</td>\n",
       "      <td>United Kingdom</td>\n",
       "    </tr>\n",
       "    <tr>\n",
       "      <th>4</th>\n",
       "      <td>536365</td>\n",
       "      <td>84029E</td>\n",
       "      <td>RED WOOLLY HOTTIE WHITE HEART.</td>\n",
       "      <td>6</td>\n",
       "      <td>2010-12-01</td>\n",
       "      <td>3.39</td>\n",
       "      <td>17850</td>\n",
       "      <td>United Kingdom</td>\n",
       "    </tr>\n",
       "  </tbody>\n",
       "</table>\n",
       "</div>"
      ],
      "text/plain": [
       "  InvoiceNo StockCode                          Description  Quantity  \\\n",
       "0    536365    85123A   WHITE HANGING HEART T-LIGHT HOLDER         6   \n",
       "1    536365     71053                  WHITE METAL LANTERN         6   \n",
       "2    536365    84406B       CREAM CUPID HEARTS COAT HANGER         8   \n",
       "3    536365    84029G  KNITTED UNION FLAG HOT WATER BOTTLE         6   \n",
       "4    536365    84029E       RED WOOLLY HOTTIE WHITE HEART.         6   \n",
       "\n",
       "  InvoiceDate  UnitPrice  CustomerID         Country  \n",
       "0  2010-12-01       2.55       17850  United Kingdom  \n",
       "1  2010-12-01       3.39       17850  United Kingdom  \n",
       "2  2010-12-01       2.75       17850  United Kingdom  \n",
       "3  2010-12-01       3.39       17850  United Kingdom  \n",
       "4  2010-12-01       3.39       17850  United Kingdom  "
      ]
     },
     "execution_count": 40,
     "metadata": {},
     "output_type": "execute_result"
    }
   ],
   "source": [
    "## shape \n",
    "print(f\" final of data: rows {data.shape[0]} columns {data.shape[1]}\")\n",
    "\n",
    "# data\n",
    "data.head()"
   ]
  },
  {
   "cell_type": "markdown",
   "id": "18b52086",
   "metadata": {},
   "source": [
    "## 6. EDA "
   ]
  },
  {
   "cell_type": "raw",
   "id": "1abff594",
   "metadata": {},
   "source": [
    "BEFORE  moving further into anlyasis we will create a new feature that will show that total amount speed by customer on that product \n",
    "another thing is while accounting data by machine . the error was introduce in quANatuty feature \n",
    "having some negative values.\n",
    "we need to change this features with absolute values."
   ]
  },
  {
   "cell_type": "code",
   "execution_count": 41,
   "id": "095dd6ea",
   "metadata": {},
   "outputs": [],
   "source": [
    "## converting negative values to positive \n",
    "data['Quantity']=np.abs(data['Quantity'])\n",
    "\n",
    "# creat9ng a new features\n",
    "data['TotalSpend']=data['Quantity']*data['UnitPrice']"
   ]
  },
  {
   "cell_type": "code",
   "execution_count": 42,
   "id": "b2523b80",
   "metadata": {},
   "outputs": [],
   "source": [
    "## 1.  what is the ordered quantity of product items per day by  teh customer?\n"
   ]
  },
  {
   "cell_type": "code",
   "execution_count": 43,
   "id": "ccf2ec12",
   "metadata": {},
   "outputs": [
    {
     "data": {
      "text/html": [
       "<div>\n",
       "<style scoped>\n",
       "    .dataframe tbody tr th:only-of-type {\n",
       "        vertical-align: middle;\n",
       "    }\n",
       "\n",
       "    .dataframe tbody tr th {\n",
       "        vertical-align: top;\n",
       "    }\n",
       "\n",
       "    .dataframe thead th {\n",
       "        text-align: right;\n",
       "    }\n",
       "</style>\n",
       "<table border=\"1\" class=\"dataframe\">\n",
       "  <thead>\n",
       "    <tr style=\"text-align: right;\">\n",
       "      <th></th>\n",
       "      <th>InvoiceDate</th>\n",
       "      <th>Quantity</th>\n",
       "      <th>UnitPrice</th>\n",
       "      <th>CustomerID</th>\n",
       "      <th>TotalSpend</th>\n",
       "    </tr>\n",
       "  </thead>\n",
       "  <tbody>\n",
       "    <tr>\n",
       "      <th>0</th>\n",
       "      <td>2010-12-01</td>\n",
       "      <td>24297</td>\n",
       "      <td>6116.25</td>\n",
       "      <td>30070484</td>\n",
       "      <td>46517.72</td>\n",
       "    </tr>\n",
       "    <tr>\n",
       "      <th>1</th>\n",
       "      <td>2010-12-02</td>\n",
       "      <td>41364</td>\n",
       "      <td>6529.57</td>\n",
       "      <td>32243700</td>\n",
       "      <td>48738.67</td>\n",
       "    </tr>\n",
       "    <tr>\n",
       "      <th>2</th>\n",
       "      <td>2010-12-03</td>\n",
       "      <td>12089</td>\n",
       "      <td>3690.00</td>\n",
       "      <td>16811330</td>\n",
       "      <td>25199.88</td>\n",
       "    </tr>\n",
       "    <tr>\n",
       "      <th>3</th>\n",
       "      <td>2010-12-05</td>\n",
       "      <td>16297</td>\n",
       "      <td>7633.66</td>\n",
       "      <td>39820271</td>\n",
       "      <td>31752.28</td>\n",
       "    </tr>\n",
       "    <tr>\n",
       "      <th>4</th>\n",
       "      <td>2010-12-06</td>\n",
       "      <td>16311</td>\n",
       "      <td>5859.32</td>\n",
       "      <td>30621983</td>\n",
       "      <td>31759.89</td>\n",
       "    </tr>\n",
       "    <tr>\n",
       "      <th>...</th>\n",
       "      <td>...</td>\n",
       "      <td>...</td>\n",
       "      <td>...</td>\n",
       "      <td>...</td>\n",
       "      <td>...</td>\n",
       "    </tr>\n",
       "    <tr>\n",
       "      <th>300</th>\n",
       "      <td>2011-12-05</td>\n",
       "      <td>38470</td>\n",
       "      <td>11806.52</td>\n",
       "      <td>51177929</td>\n",
       "      <td>59648.77</td>\n",
       "    </tr>\n",
       "    <tr>\n",
       "      <th>301</th>\n",
       "      <td>2011-12-06</td>\n",
       "      <td>28831</td>\n",
       "      <td>6350.98</td>\n",
       "      <td>40900925</td>\n",
       "      <td>48439.10</td>\n",
       "    </tr>\n",
       "    <tr>\n",
       "      <th>302</th>\n",
       "      <td>2011-12-07</td>\n",
       "      <td>41119</td>\n",
       "      <td>5714.22</td>\n",
       "      <td>33447544</td>\n",
       "      <td>69593.54</td>\n",
       "    </tr>\n",
       "    <tr>\n",
       "      <th>303</th>\n",
       "      <td>2011-12-08</td>\n",
       "      <td>28115</td>\n",
       "      <td>6773.81</td>\n",
       "      <td>38733786</td>\n",
       "      <td>51473.18</td>\n",
       "    </tr>\n",
       "    <tr>\n",
       "      <th>304</th>\n",
       "      <td>2011-12-09</td>\n",
       "      <td>171582</td>\n",
       "      <td>1769.10</td>\n",
       "      <td>9013139</td>\n",
       "      <td>353118.73</td>\n",
       "    </tr>\n",
       "  </tbody>\n",
       "</table>\n",
       "<p>305 rows × 5 columns</p>\n",
       "</div>"
      ],
      "text/plain": [
       "    InvoiceDate  Quantity  UnitPrice  CustomerID  TotalSpend\n",
       "0    2010-12-01     24297    6116.25    30070484    46517.72\n",
       "1    2010-12-02     41364    6529.57    32243700    48738.67\n",
       "2    2010-12-03     12089    3690.00    16811330    25199.88\n",
       "3    2010-12-05     16297    7633.66    39820271    31752.28\n",
       "4    2010-12-06     16311    5859.32    30621983    31759.89\n",
       "..          ...       ...        ...         ...         ...\n",
       "300  2011-12-05     38470   11806.52    51177929    59648.77\n",
       "301  2011-12-06     28831    6350.98    40900925    48439.10\n",
       "302  2011-12-07     41119    5714.22    33447544    69593.54\n",
       "303  2011-12-08     28115    6773.81    38733786    51473.18\n",
       "304  2011-12-09    171582    1769.10     9013139   353118.73\n",
       "\n",
       "[305 rows x 5 columns]"
      ]
     },
     "execution_count": 43,
     "metadata": {},
     "output_type": "execute_result"
    }
   ],
   "source": [
    "dx=data.groupby(by='InvoiceDate',as_index=False).agg('sum')\n",
    "dx"
   ]
  },
  {
   "cell_type": "code",
   "execution_count": 44,
   "id": "0d7ac237",
   "metadata": {},
   "outputs": [
    {
     "data": {
      "text/plain": [
       "<AxesSubplot:xlabel='InvoiceDate', ylabel='Quantity'>"
      ]
     },
     "execution_count": 44,
     "metadata": {},
     "output_type": "execute_result"
    },
    {
     "data": {
      "image/png": "[encoded data removed]",
      "text/plain": [
       "<Figure size 1080x504 with 1 Axes>"
      ]
     },
     "metadata": {
      "needs_background": "light"
     },
     "output_type": "display_data"
    }
   ],
   "source": [
    "figure=plt.figure(figsize=[15,7])\n",
    "sns.lineplot(x='InvoiceDate',y='Quantity',data=dx,color='#D96552')"
   ]
  },
  {
   "cell_type": "code",
   "execution_count": 45,
   "id": "2e2a100d",
   "metadata": {},
   "outputs": [
    {
     "data": {
      "image/png": "[encoded data removed]",
      "text/plain": [
       "<Figure size 1080x504 with 1 Axes>"
      ]
     },
     "metadata": {
      "needs_background": "light"
     },
     "output_type": "display_data"
    }
   ],
   "source": [
    "figure=plt.figure(figsize=[15,7])\n",
    "sns.lineplot(x='InvoiceDate',y='Quantity',data=dx,color='#D96552')\n",
    "\n",
    "plt.xlabel('Invoice Date',size=14)\n",
    "plt.ylabel('Quantity orderd per day',size=14)\n",
    "plt.legend(labels=['Quantity orderd per day'],loc='upper right',frameon=False)\n",
    "plt.title('Quantity orderd vs Invoice Date',size=16)\n",
    "plt.grid(b=True,axis='y')\n",
    "plt.show()\n",
    "\n"
   ]
  },
  {
   "cell_type": "raw",
   "id": "05d97aea",
   "metadata": {},
   "source": [
    "## observation :\n",
    "we can see high quantity ordered around the month of \n",
    "1. sepet oct 2018-130000\n",
    "2. january 2019 -160000 and \n",
    "janu 2020 (-175000)"
   ]
  },
  {
   "cell_type": "code",
   "execution_count": 46,
   "id": "854a99ec",
   "metadata": {},
   "outputs": [],
   "source": [
    "## 2. what was the total sales of product items per day by the customer?"
   ]
  },
  {
   "cell_type": "code",
   "execution_count": 47,
   "id": "acb20fcb",
   "metadata": {},
   "outputs": [
    {
     "data": {
      "image/png": "[encoded data removed]",
      "text/plain": [
       "<Figure size 1080x504 with 1 Axes>"
      ]
     },
     "metadata": {
      "needs_background": "light"
     },
     "output_type": "display_data"
    }
   ],
   "source": [
    "figure=plt.figure(figsize=[15,7])\n",
    "sns.lineplot(x='InvoiceDate',y='TotalSpend',data=dx,color='#32B165')\n",
    "\n",
    "plt.xlabel('Invoice Date',size=14)\n",
    "plt.ylabel('Total sales per day',size=14)\n",
    "plt.legend(labels=['Sales per day'],loc='upper right',frameon=False)\n",
    "plt.title('Total sales vs Invoice Date',size=16)\n",
    "plt.grid(b=True,axis='y')\n",
    "plt.show()\n",
    "\n"
   ]
  },
  {
   "cell_type": "raw",
   "id": "9787e090",
   "metadata": {},
   "source": [
    "## observation \n",
    "1. sales around the month of january 2019 was pretty high -165000 pounds\n",
    "sales around month of dec 2019 was pretty high -360000 pounds"
   ]
  },
  {
   "cell_type": "markdown",
   "id": "f19a4d79",
   "metadata": {},
   "source": [
    "## 3. which are the top 10 product that were solda at high quantity to the customer?\n"
   ]
  },
  {
   "cell_type": "code",
   "execution_count": 48,
   "id": "7e1a1018",
   "metadata": {},
   "outputs": [],
   "source": [
    "dx=data.groupby(by='Description',as_index=False).agg('sum').sort_values(by='Quantity',ascending=False)\n",
    "# sewlecting to 10 products\n",
    "top_10=dx[0:10]"
   ]
  },
  {
   "cell_type": "code",
   "execution_count": 49,
   "id": "a74e860a",
   "metadata": {},
   "outputs": [
    {
     "data": {
      "image/png": "[encoded data removed]",
      "text/plain": [
       "<Figure size 1080x504 with 1 Axes>"
      ]
     },
     "metadata": {
      "needs_background": "light"
     },
     "output_type": "display_data"
    }
   ],
   "source": [
    "figure=plt.figure(figsize=[15,7])\n",
    "sns.barplot(x='Quantity',y='Description',data=top_10)\n",
    "\n",
    "plt.xlabel(xlabel='Quantity',size=14)\n",
    "plt.ylabel(ylabel='Description',size=14)\n",
    "\n",
    "plt.title(label='THighest Sold Product Items (top 10)',size=16)\n",
    "plt.grid(b=True,axis='x')\n",
    "plt.show()"
   ]
  },
  {
   "cell_type": "raw",
   "id": "ef25aa5b",
   "metadata": {},
   "source": [
    "## observation \n",
    "1. paper craft and little biridies has been solda ta highest amount of quantity than any other product items "
   ]
  },
  {
   "cell_type": "code",
   "execution_count": 50,
   "id": "4b1fc2d3",
   "metadata": {},
   "outputs": [],
   "source": [
    "### 4. which are the top 10 product items that were solda at slow at low quantity to the customer?"
   ]
  },
  {
   "cell_type": "code",
   "execution_count": 51,
   "id": "4c32813f",
   "metadata": {},
   "outputs": [],
   "source": [
    "dxl=data.groupby(by='Description',as_index=False).agg('sum').sort_values(by='Quantity',ascending=True)\n",
    "# sewlecting to 10 products\n",
    "topl_10=dxl[0:10]"
   ]
  },
  {
   "cell_type": "code",
   "execution_count": 53,
   "id": "b2063293",
   "metadata": {},
   "outputs": [
    {
     "data": {
      "image/png": "[encoded data removed]",
      "text/plain": [
       "<Figure size 1080x504 with 1 Axes>"
      ]
     },
     "metadata": {
      "needs_background": "light"
     },
     "output_type": "display_data"
    }
   ],
   "source": [
    "figure=plt.figure(figsize=[15,7])\n",
    "sns.barplot(x='Quantity',y='Description',data=topl_10)\n",
    "\n",
    "plt.xlabel(xlabel='Quantity',size=14)\n",
    "plt.ylabel(ylabel='Description',size=14)\n",
    "\n",
    "plt.title(label='lowest Sold Product Items (top 10)',size=16)\n",
    "plt.grid(b=True,axis='x')\n",
    "plt.show()"
   ]
  },
  {
   "cell_type": "markdown",
   "id": "5a21e8c5",
   "metadata": {},
   "source": [
    "### 5. what was the total amount that was spend by per country ?"
   ]
  },
  {
   "cell_type": "code",
   "execution_count": 57,
   "id": "0b3def80",
   "metadata": {},
   "outputs": [],
   "source": [
    "dx=data.groupby(by='Country',as_index=False).agg('sum').sort_values(by='TotalSpend',ascending=False)\n",
    "# sewlecting to 10 products\n",
    "topl_10=dxl[0:10]"
   ]
  },
  {
   "cell_type": "raw",
   "id": "d37620d2",
   "metadata": {},
   "source": [
    "there are 41 country so we have dicide into two plots"
   ]
  },
  {
   "cell_type": "code",
   "execution_count": 59,
   "id": "4f8b88b5",
   "metadata": {},
   "outputs": [
    {
     "name": "stdout",
     "output_type": "stream",
     "text": [
      "note below x scale is differnt for both plots.\n"
     ]
    },
    {
     "data": {
      "image/png": "[encoded data removed]",
      "text/plain": [
       "<Figure size 1080x576 with 2 Axes>"
      ]
     },
     "metadata": {
      "needs_background": "light"
     },
     "output_type": "display_data"
    }
   ],
   "source": [
    "print(\"note below x scale is differnt for both plots.\")\n",
    "fig,(ax1,ax2)=plt.subplots(1,2,figsize=[15,8])\n",
    "ax1=sns.barplot(x='TotalSpend',y='Country',data=dx[0:20],ci=None,ax=ax1)\n",
    "ax1.set_xlabel(xlabel=\"TotalSpend\",size=14)\n",
    "ax1.set_ylabel(ylabel=\"Country\",size=14)\n",
    "ax1.set_title(label=\"Total Spend\",size=14)\n",
    "ax1.grid(b=True,axis='x')\n",
    "\n",
    "\n",
    "ax2=sns.barplot(x='TotalSpend',y='Country',data=dx[20:],ci=None,ax=ax2)\n",
    "ax2.set_xlabel(xlabel=\"TotalSpend\",size=14)\n",
    "ax2.set_ylabel(ylabel=\"Country\",size=14)\n",
    "ax2.set_title(label=\"Total Spend\",size=14)\n",
    "ax2.grid(b=True,axis='x')\n",
    "plt.tight_layout(pad=3.0)\n",
    "plt.show()"
   ]
  },
  {
   "cell_type": "code",
   "execution_count": 60,
   "id": "d1f80e10",
   "metadata": {},
   "outputs": [],
   "source": [
    "# observation \n",
    "# uk sepnt highest while nigeria spent loweset "
   ]
  },
  {
   "cell_type": "markdown",
   "id": "46e5d71a",
   "metadata": {},
   "source": [
    "## 7. customer segm,aentation techniwques"
   ]
  },
  {
   "cell_type": "raw",
   "id": "3357b51d",
   "metadata": {},
   "source": [
    "in this section we will explore two techniques of clustering customer using kmeans and RFM recency frequency monetry "
   ]
  },
  {
   "cell_type": "markdown",
   "id": "2367f835",
   "metadata": {},
   "source": [
    "## segmenattion using kmeans "
   ]
  },
  {
   "cell_type": "raw",
   "id": "0660d4f1",
   "metadata": {},
   "source": [
    "we will be segmentaing customer based on their behaviours i.e. the quantity orderd and total amount on that product .\n",
    "firstky we will run k means at default setting . then we will tune it over multile k values finding optimal k.\n",
    "but before that we eill normalized two features that are important for cluastering i.e. quantity and totalsepnd ."
   ]
  },
  {
   "cell_type": "code",
   "execution_count": 63,
   "id": "cb5d6d5c",
   "metadata": {},
   "outputs": [],
   "source": [
    "data['LogQuantity']=np.log1p(data['Quantity'])\n",
    "data['LogTotalSpend']=np.log1p(data['TotalSpend'])"
   ]
  },
  {
   "cell_type": "code",
   "execution_count": 67,
   "id": "101c757b",
   "metadata": {},
   "outputs": [],
   "source": [
    "from sklearn.cluster import KMeans\n",
    "kmeans=KMeans()"
   ]
  },
  {
   "cell_type": "code",
   "execution_count": 68,
   "id": "b76127e4",
   "metadata": {},
   "outputs": [
    {
     "name": "stdout",
     "output_type": "stream",
     "text": [
      "within cluster sum of square variation inetria wcss 96509.42777682166\n"
     ]
    }
   ],
   "source": [
    "Kmeans=KMeans(n_clusters=8,max_iter=500,random_state=42)\n",
    "kmeans.fit(data[['LogQuantity','LogTotalSpend']])\n",
    "print('within cluster sum of square variation inetria wcss',kmeans.inertia_)"
   ]
  },
  {
   "cell_type": "markdown",
   "id": "43738856",
   "metadata": {},
   "source": [
    "## 7.1 hyperparamater tuning finding optimal k "
   ]
  },
  {
   "cell_type": "raw",
   "id": "3cc9b12c",
   "metadata": {},
   "source": [
    "we will iterate our model over some iteration finding optimal k value for clustering .\n",
    "we check inertia defined as the mean squared distance between each instance and its closest centroid . logicaally as per defination lower the inertia better the model.\n",
    "we eill use elboe rule in order to find the optimal number of cluster s."
   ]
  },
  {
   "cell_type": "code",
   "execution_count": 74,
   "id": "d617a93f",
   "metadata": {},
   "outputs": [
    {
     "ename": "AttributeError",
     "evalue": "'KMeans' object has no attribute 'inertia_'",
     "output_type": "error",
     "traceback": [
      "\u001b[1;31m---------------------------------------------------------------------------\u001b[0m",
      "\u001b[1;31mAttributeError\u001b[0m                            Traceback (most recent call last)",
      "Input \u001b[1;32mIn [74]\u001b[0m, in \u001b[0;36m<cell line: 5>\u001b[1;34m()\u001b[0m\n\u001b[0;32m      6\u001b[0m k_means\u001b[38;5;241m=\u001b[39mKMeans(n_clusters\u001b[38;5;241m=\u001b[39mi,init \u001b[38;5;241m=\u001b[39m \u001b[38;5;124m'\u001b[39m\u001b[38;5;124mk-means++\u001b[39m\u001b[38;5;124m'\u001b[39m,max_iter\u001b[38;5;241m=\u001b[39m\u001b[38;5;241m500\u001b[39m,random_state\u001b[38;5;241m=\u001b[39m\u001b[38;5;241m42\u001b[39m)\n\u001b[0;32m      7\u001b[0m kmeans\u001b[38;5;241m.\u001b[39mfit(data[[\u001b[38;5;124m'\u001b[39m\u001b[38;5;124mLogQuantity\u001b[39m\u001b[38;5;124m'\u001b[39m,\u001b[38;5;124m'\u001b[39m\u001b[38;5;124mLogTotalSpend\u001b[39m\u001b[38;5;124m'\u001b[39m]])\n\u001b[1;32m----> 8\u001b[0m inertia_vals\u001b[38;5;241m.\u001b[39mappend(\u001b[43mk_means\u001b[49m\u001b[38;5;241;43m.\u001b[39;49m\u001b[43minertia_\u001b[49m )\n\u001b[0;32m      9\u001b[0m \u001b[38;5;28mprint\u001b[39m(\u001b[38;5;124m'\u001b[39m\u001b[38;5;124mIteration\u001b[39m\u001b[38;5;124m'\u001b[39m,i,\u001b[38;5;124m'\u001b[39m\u001b[38;5;124mcompleterd\u001b[39m\u001b[38;5;124m'\u001b[39m)\n",
      "\u001b[1;31mAttributeError\u001b[0m: 'KMeans' object has no attribute 'inertia_'"
     ]
    }
   ],
   "source": [
    "# \n",
    "inertia_vals=[]\n",
    "k_vals=[x for x in range(1,16)]\n",
    "\n",
    "for i in k_vals:\n",
    "    k_means=KMeans(n_clusters=i,init = 'k-means++',max_iter=500,random_state=42)\n",
    "    kmeans.fit(data[['LogQuantity','LogTotalSpend']])\n",
    "    inertia_vals.append(k_means.inertia_ )\n",
    "    print('Iteration',i,'completerd')"
   ]
  },
  {
   "cell_type": "code",
   "execution_count": null,
   "id": "dec578a1",
   "metadata": {},
   "outputs": [],
   "source": [
    "# from sklearn.cluster import KMeans\n",
    "# wcss = [] for i in range(1, 11): \n",
    "#     kmeans = KMeans(n_clusters = i, init = 'k-means++', random_state = 42)\n",
    "#     kmeans.fit(X) \n",
    "#     wcss.append(kmeans.inertia_)"
   ]
  },
  {
   "cell_type": "raw",
   "id": "8cff629d",
   "metadata": {},
   "source": [
    "# visualizing the inertia vs k values\n",
    "\n",
    "fig=go.Figure()\n",
    "fig.add_trace(go.Scatter(x=K_vals,y=inertia_vals,mode='lines+markers'))\n",
    "fig.update_layout(xaxis=dict(tickmode='inertia',tick0=1,dtick=1),\n",
    "title_text='wcss vs k values'\n",
    "title_x=0.5\n",
    "xaxis_title-'k values',\n",
    "yaxis_title='Cluster sum of squared Distances')\n",
    "fig.show()"
   ]
  },
  {
   "cell_type": "raw",
   "id": "855e97de",
   "metadata": {},
   "source": [
    "## observation \n",
    "as we can see that the css values are preetty high \n",
    "we can see that k=5 there is significant drop in inertia\n",
    "so k=5 is optimal for our solutions."
   ]
  },
  {
   "cell_type": "code",
   "execution_count": 75,
   "id": "aacc5380",
   "metadata": {},
   "outputs": [],
   "source": [
    "# final model "
   ]
  },
  {
   "cell_type": "code",
   "execution_count": 76,
   "id": "9df3b758",
   "metadata": {},
   "outputs": [],
   "source": [
    "Kmeans=KMeans(n_clusters=5,max_iter=500,random_state=42)\n",
    "kmeans.fit(data[['LogQuantity','LogTotalSpend']])\n",
    "data['Labels']=kmeans.labels_\n",
    "centers=kmeans.cluster_centers_"
   ]
  },
  {
   "cell_type": "markdown",
   "id": "04457e21",
   "metadata": {},
   "source": [
    "## visualization of cluster "
   ]
  },
  {
   "cell_type": "code",
   "execution_count": 81,
   "id": "c812ac3c",
   "metadata": {},
   "outputs": [
    {
     "ename": "IndexError",
     "evalue": "index 2 is out of bounds for axis 0 with size 2",
     "output_type": "error",
     "traceback": [
      "\u001b[1;31m---------------------------------------------------------------------------\u001b[0m",
      "\u001b[1;31mIndexError\u001b[0m                                Traceback (most recent call last)",
      "Input \u001b[1;32mIn [81]\u001b[0m, in \u001b[0;36m<cell line: 4>\u001b[1;34m()\u001b[0m\n\u001b[0;32m      3\u001b[0m ax1\u001b[38;5;241m.\u001b[39mscatter(x\u001b[38;5;241m=\u001b[39mcenters[:,\u001b[38;5;241m0\u001b[39m],y\u001b[38;5;241m=\u001b[39mcenters[:,\u001b[38;5;241m1\u001b[39m],marker\u001b[38;5;241m=\u001b[39m\u001b[38;5;124m'\u001b[39m\u001b[38;5;124mo\u001b[39m\u001b[38;5;124m'\u001b[39m,c\u001b[38;5;241m=\u001b[39m\u001b[38;5;124m'\u001b[39m\u001b[38;5;124mwhite\u001b[39m\u001b[38;5;124m'\u001b[39m,alpha\u001b[38;5;241m=\u001b[39m\u001b[38;5;241m1\u001b[39m,s\u001b[38;5;241m=\u001b[39m\u001b[38;5;241m200\u001b[39m,edgecolor\u001b[38;5;241m=\u001b[39m\u001b[38;5;124m'\u001b[39m\u001b[38;5;124mk\u001b[39m\u001b[38;5;124m'\u001b[39m)\n\u001b[0;32m      4\u001b[0m \u001b[38;5;28;01mfor\u001b[39;00m i, c \u001b[38;5;129;01min\u001b[39;00m \u001b[38;5;28menumerate\u001b[39m(centers):\n\u001b[1;32m----> 5\u001b[0m     ax1\u001b[38;5;241m.\u001b[39mscatter(x\u001b[38;5;241m=\u001b[39mc[\u001b[38;5;241m0\u001b[39m],y\u001b[38;5;241m=\u001b[39m\u001b[43mc\u001b[49m\u001b[43m[\u001b[49m\u001b[43mi\u001b[49m\u001b[43m]\u001b[49m,marker\u001b[38;5;241m=\u001b[39m\u001b[38;5;124m'\u001b[39m\u001b[38;5;124m$\u001b[39m\u001b[38;5;132;01m%d\u001b[39;00m\u001b[38;5;124m$\u001b[39m\u001b[38;5;124m'\u001b[39m\u001b[38;5;241m%\u001b[39mi,alpha\u001b[38;5;241m=\u001b[39mi,s\u001b[38;5;241m=\u001b[39m\u001b[38;5;241m50\u001b[39m,edgecolor\u001b[38;5;241m=\u001b[39m\u001b[38;5;124m'\u001b[39m\u001b[38;5;124mk\u001b[39m\u001b[38;5;124m'\u001b[39m)\n\u001b[0;32m      6\u001b[0m plt\u001b[38;5;241m.\u001b[39mxlabel(xlabel\u001b[38;5;241m=\u001b[39m\u001b[38;5;124m'\u001b[39m\u001b[38;5;124mfeaturespace1 (LogQuantity)\u001b[39m\u001b[38;5;124m'\u001b[39m,size\u001b[38;5;241m=\u001b[39m\u001b[38;5;241m14\u001b[39m)\n\u001b[0;32m      7\u001b[0m plt\u001b[38;5;241m.\u001b[39mxlabel(xlabel\u001b[38;5;241m=\u001b[39m\u001b[38;5;124m'\u001b[39m\u001b[38;5;124mfeaturespace2 (LogTotalSpend)\u001b[39m\u001b[38;5;124m'\u001b[39m,size\u001b[38;5;241m=\u001b[39m\u001b[38;5;241m14\u001b[39m)\n",
      "\u001b[1;31mIndexError\u001b[0m: index 2 is out of bounds for axis 0 with size 2"
     ]
    },
    {
     "data": {
      "image/png": "[encoded data removed]",
      "text/plain": [
       "<Figure size 1080x504 with 1 Axes>"
      ]
     },
     "metadata": {
      "needs_background": "light"
     },
     "output_type": "display_data"
    }
   ],
   "source": [
    "fig,ax1=plt.subplots(1,1,figsize=[15,7])\n",
    "ax1.scatter(x=data['LogQuantity'],y=data['LogTotalSpend'],marker=',',s=30,c=data['Labels'],cmap='cool')\n",
    "ax1.scatter(x=centers[:,0],y=centers[:,1],marker='o',c='white',alpha=1,s=200,edgecolor='k')\n",
    "for i, c in enumerate(centers):\n",
    "    ax1.scatter(x=c[0],y=c[i],marker='$%d$' % i,alpha=i,s=50,edgecolor='k')\n",
    "plt.xlabel(xlabel='featurespace1 (LogQuantity)',size=14)\n",
    "plt.xlabel(xlabel='featurespace2 (LogTotalSpend)',size=14)\n",
    "plt.title(label='Visualization of cluster dat a',size=16)\n",
    "plt.show()"
   ]
  },
  {
   "cell_type": "raw",
   "id": "9e0761a7",
   "metadata": {},
   "source": [
    "#observation \n",
    "we can see cluster s and their respective centroid are very dense .\n",
    "to undersatnd better we will look at the count of each clusterlabel"
   ]
  },
  {
   "cell_type": "code",
   "execution_count": 82,
   "id": "159e2669",
   "metadata": {},
   "outputs": [
    {
     "data": {
      "image/png": "[encoded data removed]",
      "text/plain": [
       "<Figure size 1080x504 with 1 Axes>"
      ]
     },
     "metadata": {
      "needs_background": "light"
     },
     "output_type": "display_data"
    }
   ],
   "source": [
    "figure=plt.figure(figsize=[15,7])\n",
    "flatui=[\"#000000\",'#FFEBCD','#0000FF','#8A2BE2','#FF4040']\n",
    "ax=sns.countplot(x='Labels',data=data,palette=sns.color_palette(flatui))\n",
    "\n",
    "total=data.shape[0]\n",
    "for p in ax.patches:\n",
    "    percentage='{:2f}%'.format(100*p.get_height()/total)\n",
    "    x=p.get_x()+p.get_width()/3\n",
    "    y=p.get_y()+p.get_height()\n",
    "    ax.annotate(percentage,(x,y))\n",
    "    \n",
    "plt.xlabel('Clusters',size=14)\n",
    "plt.ylabel('Frequency',size=14)\n",
    "plt.title(label='Frequency distribution of customers',size=16)\n",
    "plt.show()"
   ]
  },
  {
   "cell_type": "raw",
   "id": "c84652b3",
   "metadata": {},
   "source": [
    "# observation \n",
    "cluster 1 and 7 are more profitable \n",
    "2. \n"
   ]
  },
  {
   "cell_type": "markdown",
   "id": "e31cfd3e",
   "metadata": {},
   "source": [
    "### segemntatrion using RFM "
   ]
  },
  {
   "cell_type": "code",
   "execution_count": 84,
   "id": "35c82f89",
   "metadata": {},
   "outputs": [
    {
     "name": "stdout",
     "output_type": "stream",
     "text": [
      "Last Date :  2011-12-09 00:00:00\n"
     ]
    }
   ],
   "source": [
    "print('Last Date : ',data['InvoiceDate'].max())"
   ]
  },
  {
   "cell_type": "code",
   "execution_count": 85,
   "id": "a0f02f10",
   "metadata": {},
   "outputs": [],
   "source": [
    "MOW=datetime.datetime(2011,12,10)"
   ]
  },
  {
   "cell_type": "code",
   "execution_count": 86,
   "id": "11ae4ef8",
   "metadata": {},
   "outputs": [
    {
     "data": {
      "text/html": [
       "<div>\n",
       "<style scoped>\n",
       "    .dataframe tbody tr th:only-of-type {\n",
       "        vertical-align: middle;\n",
       "    }\n",
       "\n",
       "    .dataframe tbody tr th {\n",
       "        vertical-align: top;\n",
       "    }\n",
       "\n",
       "    .dataframe thead th {\n",
       "        text-align: right;\n",
       "    }\n",
       "</style>\n",
       "<table border=\"1\" class=\"dataframe\">\n",
       "  <thead>\n",
       "    <tr style=\"text-align: right;\">\n",
       "      <th></th>\n",
       "      <th>InvoiceNo</th>\n",
       "      <th>StockCode</th>\n",
       "      <th>Description</th>\n",
       "      <th>Quantity</th>\n",
       "      <th>InvoiceDate</th>\n",
       "      <th>UnitPrice</th>\n",
       "      <th>CustomerID</th>\n",
       "      <th>Country</th>\n",
       "      <th>TotalSpend</th>\n",
       "      <th>LogQuantity</th>\n",
       "      <th>LogTotalSpend</th>\n",
       "      <th>Labels</th>\n",
       "    </tr>\n",
       "  </thead>\n",
       "  <tbody>\n",
       "    <tr>\n",
       "      <th>0</th>\n",
       "      <td>536365</td>\n",
       "      <td>85123A</td>\n",
       "      <td>WHITE HANGING HEART T-LIGHT HOLDER</td>\n",
       "      <td>6</td>\n",
       "      <td>2010-12-01</td>\n",
       "      <td>2.55</td>\n",
       "      <td>17850</td>\n",
       "      <td>United Kingdom</td>\n",
       "      <td>15.3</td>\n",
       "      <td>1.94591</td>\n",
       "      <td>2.791165</td>\n",
       "      <td>0</td>\n",
       "    </tr>\n",
       "  </tbody>\n",
       "</table>\n",
       "</div>"
      ],
      "text/plain": [
       "  InvoiceNo StockCode                         Description  Quantity  \\\n",
       "0    536365    85123A  WHITE HANGING HEART T-LIGHT HOLDER         6   \n",
       "\n",
       "  InvoiceDate  UnitPrice  CustomerID         Country  TotalSpend  LogQuantity  \\\n",
       "0  2010-12-01       2.55       17850  United Kingdom        15.3      1.94591   \n",
       "\n",
       "   LogTotalSpend  Labels  \n",
       "0       2.791165       0  "
      ]
     },
     "execution_count": 86,
     "metadata": {},
     "output_type": "execute_result"
    }
   ],
   "source": [
    "data.head(1)"
   ]
  },
  {
   "cell_type": "code",
   "execution_count": 88,
   "id": "fa51484a",
   "metadata": {},
   "outputs": [
    {
     "data": {
      "text/html": [
       "<div>\n",
       "<style scoped>\n",
       "    .dataframe tbody tr th:only-of-type {\n",
       "        vertical-align: middle;\n",
       "    }\n",
       "\n",
       "    .dataframe tbody tr th {\n",
       "        vertical-align: top;\n",
       "    }\n",
       "\n",
       "    .dataframe thead th {\n",
       "        text-align: right;\n",
       "    }\n",
       "</style>\n",
       "<table border=\"1\" class=\"dataframe\">\n",
       "  <thead>\n",
       "    <tr style=\"text-align: right;\">\n",
       "      <th></th>\n",
       "      <th>CustomerID</th>\n",
       "      <th>Recency</th>\n",
       "      <th>Frequency</th>\n",
       "      <th>Monetary</th>\n",
       "    </tr>\n",
       "  </thead>\n",
       "  <tbody>\n",
       "    <tr>\n",
       "      <th>0</th>\n",
       "      <td>12346</td>\n",
       "      <td>326</td>\n",
       "      <td>2</td>\n",
       "      <td>154367.20</td>\n",
       "    </tr>\n",
       "    <tr>\n",
       "      <th>1</th>\n",
       "      <td>12347</td>\n",
       "      <td>3</td>\n",
       "      <td>182</td>\n",
       "      <td>4310.00</td>\n",
       "    </tr>\n",
       "    <tr>\n",
       "      <th>2</th>\n",
       "      <td>12348</td>\n",
       "      <td>76</td>\n",
       "      <td>31</td>\n",
       "      <td>1797.24</td>\n",
       "    </tr>\n",
       "    <tr>\n",
       "      <th>3</th>\n",
       "      <td>12349</td>\n",
       "      <td>19</td>\n",
       "      <td>73</td>\n",
       "      <td>1757.55</td>\n",
       "    </tr>\n",
       "    <tr>\n",
       "      <th>4</th>\n",
       "      <td>12350</td>\n",
       "      <td>311</td>\n",
       "      <td>17</td>\n",
       "      <td>334.40</td>\n",
       "    </tr>\n",
       "  </tbody>\n",
       "</table>\n",
       "</div>"
      ],
      "text/plain": [
       "   CustomerID  Recency  Frequency   Monetary\n",
       "0       12346      326          2  154367.20\n",
       "1       12347        3        182    4310.00\n",
       "2       12348       76         31    1797.24\n",
       "3       12349       19         73    1757.55\n",
       "4       12350      311         17     334.40"
      ]
     },
     "execution_count": 88,
     "metadata": {},
     "output_type": "execute_result"
    }
   ],
   "source": [
    "rmf_table=data.groupby(by='CustomerID',as_index=False).agg({'InvoiceDate':lambda x:(MOW-x.max()).days,\n",
    "                                                           'InvoiceNo':lambda x:len(x),\n",
    "                                                            'TotalSpend':lambda x:x.sum()\n",
    "                                                           })\n",
    "rmf_table.rename(columns={'InvoiceDate':'Recency',\n",
    "                         'InvoiceNo':'Frequency',\n",
    "                          'TotalSpend':'Monetary'\n",
    "                         },inplace=True)\n",
    "\n",
    "rmf_table.head()"
   ]
  },
  {
   "cell_type": "code",
   "execution_count": 89,
   "id": "1d373725",
   "metadata": {},
   "outputs": [],
   "source": [
    "# segment bu data percentile 25 50 75 "
   ]
  },
  {
   "cell_type": "code",
   "execution_count": 91,
   "id": "9ce2466e",
   "metadata": {},
   "outputs": [
    {
     "data": {
      "text/plain": [
       "{'CustomerID': {0.25: 13813.5, 0.5: 15301.0, 0.75: 16778.5},\n",
       " 'Recency': {0.25: 17.0, 0.5: 51.0, 0.75: 144.0},\n",
       " 'Frequency': {0.25: 17.0, 0.5: 41.0, 0.75: 99.5},\n",
       " 'Monetary': {0.25: 307.45000000000005, 0.5: 674.7, 0.75: 1691.89}}"
      ]
     },
     "execution_count": 91,
     "metadata": {},
     "output_type": "execute_result"
    }
   ],
   "source": [
    "qnt=rmf_table.quantile(q=[0.25,0.50,0.75])\n",
    "qnt=qnt.to_dict()\n",
    "qnt"
   ]
  },
  {
   "cell_type": "code",
   "execution_count": 92,
   "id": "687b674e",
   "metadata": {},
   "outputs": [],
   "source": [
    "# function to achieve RFM valyes "
   ]
  },
  {
   "cell_type": "code",
   "execution_count": 94,
   "id": "b70f4f17",
   "metadata": {},
   "outputs": [],
   "source": [
    "def calrecency(x,y,z):\n",
    "    if x<=z[y][0.25]:\n",
    "        return 4\n",
    "    elif x<=z[y][0.5]:\n",
    "        return 3\n",
    "    elif x<=z[y][0.75]:\n",
    "        return 2\n",
    "    else :\n",
    "        return 1\n",
    "    \n",
    "def calfreqmon(x,y,z):\n",
    "    if x<=z[y][0.25]:\n",
    "        return 1\n",
    "    elif x<=z[y][0.5]:\n",
    "        return 2\n",
    "    elif x<=z[y][0.75]:\n",
    "        return 3\n",
    "    else :\n",
    "        return 4"
   ]
  },
  {
   "cell_type": "code",
   "execution_count": 96,
   "id": "d1b8bd0d",
   "metadata": {},
   "outputs": [],
   "source": [
    "rmf_table['R value']=rmf_table['Recency'].apply(calrecency,args=('Recency',qnt))\n",
    "rmf_table['F value']=rmf_table['Frequency'].apply(calfreqmon,args=('Frequency',qnt))\n",
    "rmf_table['M value']=rmf_table['Monetary'].apply(calfreqmon,args=('Monetary',qnt))"
   ]
  },
  {
   "cell_type": "code",
   "execution_count": 97,
   "id": "faf708fb",
   "metadata": {},
   "outputs": [
    {
     "data": {
      "text/html": [
       "<div>\n",
       "<style scoped>\n",
       "    .dataframe tbody tr th:only-of-type {\n",
       "        vertical-align: middle;\n",
       "    }\n",
       "\n",
       "    .dataframe tbody tr th {\n",
       "        vertical-align: top;\n",
       "    }\n",
       "\n",
       "    .dataframe thead th {\n",
       "        text-align: right;\n",
       "    }\n",
       "</style>\n",
       "<table border=\"1\" class=\"dataframe\">\n",
       "  <thead>\n",
       "    <tr style=\"text-align: right;\">\n",
       "      <th></th>\n",
       "      <th>CustomerID</th>\n",
       "      <th>Recency</th>\n",
       "      <th>Frequency</th>\n",
       "      <th>Monetary</th>\n",
       "      <th>R value</th>\n",
       "      <th>F value</th>\n",
       "      <th>M value</th>\n",
       "    </tr>\n",
       "  </thead>\n",
       "  <tbody>\n",
       "    <tr>\n",
       "      <th>0</th>\n",
       "      <td>12346</td>\n",
       "      <td>326</td>\n",
       "      <td>2</td>\n",
       "      <td>154367.20</td>\n",
       "      <td>1</td>\n",
       "      <td>1</td>\n",
       "      <td>4</td>\n",
       "    </tr>\n",
       "    <tr>\n",
       "      <th>1</th>\n",
       "      <td>12347</td>\n",
       "      <td>3</td>\n",
       "      <td>182</td>\n",
       "      <td>4310.00</td>\n",
       "      <td>4</td>\n",
       "      <td>4</td>\n",
       "      <td>4</td>\n",
       "    </tr>\n",
       "    <tr>\n",
       "      <th>2</th>\n",
       "      <td>12348</td>\n",
       "      <td>76</td>\n",
       "      <td>31</td>\n",
       "      <td>1797.24</td>\n",
       "      <td>2</td>\n",
       "      <td>2</td>\n",
       "      <td>4</td>\n",
       "    </tr>\n",
       "    <tr>\n",
       "      <th>3</th>\n",
       "      <td>12349</td>\n",
       "      <td>19</td>\n",
       "      <td>73</td>\n",
       "      <td>1757.55</td>\n",
       "      <td>3</td>\n",
       "      <td>3</td>\n",
       "      <td>4</td>\n",
       "    </tr>\n",
       "    <tr>\n",
       "      <th>4</th>\n",
       "      <td>12350</td>\n",
       "      <td>311</td>\n",
       "      <td>17</td>\n",
       "      <td>334.40</td>\n",
       "      <td>1</td>\n",
       "      <td>1</td>\n",
       "      <td>2</td>\n",
       "    </tr>\n",
       "  </tbody>\n",
       "</table>\n",
       "</div>"
      ],
      "text/plain": [
       "   CustomerID  Recency  Frequency   Monetary  R value  F value  M value\n",
       "0       12346      326          2  154367.20        1        1        4\n",
       "1       12347        3        182    4310.00        4        4        4\n",
       "2       12348       76         31    1797.24        2        2        4\n",
       "3       12349       19         73    1757.55        3        3        4\n",
       "4       12350      311         17     334.40        1        1        2"
      ]
     },
     "execution_count": 97,
     "metadata": {},
     "output_type": "execute_result"
    }
   ],
   "source": [
    "rmf_table.head()"
   ]
  },
  {
   "cell_type": "raw",
   "id": "9f8c550b",
   "metadata": {},
   "source": [
    "### integratein in single figure features."
   ]
  },
  {
   "cell_type": "code",
   "execution_count": 98,
   "id": "8ce6576a",
   "metadata": {},
   "outputs": [],
   "source": [
    "rmf_table['RFM SCORE']=rmf_table['R value'].map(str)+rmf_table['F value'].map(str)+rmf_table['M value'].map(str)"
   ]
  },
  {
   "cell_type": "code",
   "execution_count": 99,
   "id": "0ae5f9bb",
   "metadata": {},
   "outputs": [
    {
     "data": {
      "text/html": [
       "<div>\n",
       "<style scoped>\n",
       "    .dataframe tbody tr th:only-of-type {\n",
       "        vertical-align: middle;\n",
       "    }\n",
       "\n",
       "    .dataframe tbody tr th {\n",
       "        vertical-align: top;\n",
       "    }\n",
       "\n",
       "    .dataframe thead th {\n",
       "        text-align: right;\n",
       "    }\n",
       "</style>\n",
       "<table border=\"1\" class=\"dataframe\">\n",
       "  <thead>\n",
       "    <tr style=\"text-align: right;\">\n",
       "      <th></th>\n",
       "      <th>CustomerID</th>\n",
       "      <th>Recency</th>\n",
       "      <th>Frequency</th>\n",
       "      <th>Monetary</th>\n",
       "      <th>R value</th>\n",
       "      <th>F value</th>\n",
       "      <th>M value</th>\n",
       "      <th>RFM SCORE</th>\n",
       "    </tr>\n",
       "  </thead>\n",
       "  <tbody>\n",
       "    <tr>\n",
       "      <th>1</th>\n",
       "      <td>12347</td>\n",
       "      <td>3</td>\n",
       "      <td>182</td>\n",
       "      <td>4310.00</td>\n",
       "      <td>4</td>\n",
       "      <td>4</td>\n",
       "      <td>4</td>\n",
       "      <td>444</td>\n",
       "    </tr>\n",
       "    <tr>\n",
       "      <th>12</th>\n",
       "      <td>12359</td>\n",
       "      <td>8</td>\n",
       "      <td>251</td>\n",
       "      <td>6437.08</td>\n",
       "      <td>4</td>\n",
       "      <td>4</td>\n",
       "      <td>4</td>\n",
       "      <td>444</td>\n",
       "    </tr>\n",
       "    <tr>\n",
       "      <th>15</th>\n",
       "      <td>12362</td>\n",
       "      <td>4</td>\n",
       "      <td>274</td>\n",
       "      <td>5297.88</td>\n",
       "      <td>4</td>\n",
       "      <td>4</td>\n",
       "      <td>4</td>\n",
       "      <td>444</td>\n",
       "    </tr>\n",
       "    <tr>\n",
       "      <th>34</th>\n",
       "      <td>12388</td>\n",
       "      <td>16</td>\n",
       "      <td>100</td>\n",
       "      <td>2780.66</td>\n",
       "      <td>4</td>\n",
       "      <td>4</td>\n",
       "      <td>4</td>\n",
       "      <td>444</td>\n",
       "    </tr>\n",
       "    <tr>\n",
       "      <th>39</th>\n",
       "      <td>12395</td>\n",
       "      <td>16</td>\n",
       "      <td>159</td>\n",
       "      <td>3038.98</td>\n",
       "      <td>4</td>\n",
       "      <td>4</td>\n",
       "      <td>4</td>\n",
       "      <td>444</td>\n",
       "    </tr>\n",
       "  </tbody>\n",
       "</table>\n",
       "</div>"
      ],
      "text/plain": [
       "    CustomerID  Recency  Frequency  Monetary  R value  F value  M value  \\\n",
       "1        12347        3        182   4310.00        4        4        4   \n",
       "12       12359        8        251   6437.08        4        4        4   \n",
       "15       12362        4        274   5297.88        4        4        4   \n",
       "34       12388       16        100   2780.66        4        4        4   \n",
       "39       12395       16        159   3038.98        4        4        4   \n",
       "\n",
       "   RFM SCORE  \n",
       "1        444  \n",
       "12       444  \n",
       "15       444  \n",
       "34       444  \n",
       "39       444  "
      ]
     },
     "execution_count": 99,
     "metadata": {},
     "output_type": "execute_result"
    }
   ],
   "source": [
    "rmf_table[rmf_table['RFM SCORE']=='444'].head()"
   ]
  },
  {
   "cell_type": "code",
   "execution_count": null,
   "id": "ce4a8f42",
   "metadata": {},
   "outputs": [],
   "source": [
    "### we can match respective customer with this table sto identify important customers "
   ]
  },
  {
   "cell_type": "code",
   "execution_count": 100,
   "id": "fde26a42",
   "metadata": {},
   "outputs": [],
   "source": [
    "## from this pattern we can have "
   ]
  },
  {
   "cell_type": "code",
   "execution_count": 113,
   "id": "54d43f6c",
   "metadata": {},
   "outputs": [
    {
     "data": {
      "text/html": [
       "<div>\n",
       "<style scoped>\n",
       "    .dataframe tbody tr th:only-of-type {\n",
       "        vertical-align: middle;\n",
       "    }\n",
       "\n",
       "    .dataframe tbody tr th {\n",
       "        vertical-align: top;\n",
       "    }\n",
       "\n",
       "    .dataframe thead th {\n",
       "        text-align: right;\n",
       "    }\n",
       "</style>\n",
       "<table border=\"1\" class=\"dataframe\">\n",
       "  <thead>\n",
       "    <tr style=\"text-align: right;\">\n",
       "      <th></th>\n",
       "      <th>Segment</th>\n",
       "      <th>RFM</th>\n",
       "      <th>description</th>\n",
       "      <th>marketing</th>\n",
       "    </tr>\n",
       "  </thead>\n",
       "  <tbody>\n",
       "    <tr>\n",
       "      <th>0</th>\n",
       "      <td>Best customer</td>\n",
       "      <td>444</td>\n",
       "      <td>bought most recently and most ofen and spend t...</td>\n",
       "      <td>no price incentives new product and aloyalti p...</td>\n",
       "    </tr>\n",
       "    <tr>\n",
       "      <th>1</th>\n",
       "      <td>Loyal customer</td>\n",
       "      <td>*4*</td>\n",
       "      <td>buys most frequent</td>\n",
       "      <td>use R AND F to further segment</td>\n",
       "    </tr>\n",
       "    <tr>\n",
       "      <th>2</th>\n",
       "      <td>big spenders</td>\n",
       "      <td>**4</td>\n",
       "      <td>spends the most</td>\n",
       "      <td>market your most expensive products</td>\n",
       "    </tr>\n",
       "    <tr>\n",
       "      <th>3</th>\n",
       "      <td>almost lost</td>\n",
       "      <td>244</td>\n",
       "      <td>havent purchase for sometime, but purchase frq...</td>\n",
       "      <td>aggressive price incentives</td>\n",
       "    </tr>\n",
       "    <tr>\n",
       "      <th>4</th>\n",
       "      <td>lost customers</td>\n",
       "      <td>144</td>\n",
       "      <td>havent purchased for some time but purchase fr...</td>\n",
       "      <td>aggressive price incentives</td>\n",
       "    </tr>\n",
       "    <tr>\n",
       "      <th>5</th>\n",
       "      <td>least cheap customer</td>\n",
       "      <td>111</td>\n",
       "      <td>last purchasre log ago purchase few and spend ...</td>\n",
       "      <td>dont spend too much trying to re acquire</td>\n",
       "    </tr>\n",
       "  </tbody>\n",
       "</table>\n",
       "</div>"
      ],
      "text/plain": [
       "                Segment  RFM  \\\n",
       "0         Best customer  444   \n",
       "1        Loyal customer  *4*   \n",
       "2          big spenders  **4   \n",
       "3           almost lost  244   \n",
       "4        lost customers  144   \n",
       "5  least cheap customer  111   \n",
       "\n",
       "                                         description  \\\n",
       "0  bought most recently and most ofen and spend t...   \n",
       "1                                 buys most frequent   \n",
       "2                                    spends the most   \n",
       "3  havent purchase for sometime, but purchase frq...   \n",
       "4  havent purchased for some time but purchase fr...   \n",
       "5  last purchasre log ago purchase few and spend ...   \n",
       "\n",
       "                                           marketing  \n",
       "0  no price incentives new product and aloyalti p...  \n",
       "1                    use R AND F to further segment   \n",
       "2                market your most expensive products  \n",
       "3                        aggressive price incentives  \n",
       "4                        aggressive price incentives  \n",
       "5          dont spend too much trying to re acquire   "
      ]
     },
     "execution_count": 113,
     "metadata": {},
     "output_type": "execute_result"
    }
   ],
   "source": [
    "obs=pd.DataFrame({'Segment':['Best customer','Loyal customer','big spenders','almost lost' ,'lost customers','least cheap customer'],\n",
    "                  'RFM':['444','*4*','**4','244','144','111'],\n",
    "                  'description':['bought most recently and most ofen and spend the most',\n",
    "                                'buys most frequent',\n",
    "                                 'spends the most',\n",
    "                                 'havent purchase for sometime, but purchase frquently and spend the most '\n",
    "                                 ,'havent purchased for some time but purchase frequently and spend th emost',\n",
    "                                 'last purchasre log ago purchase few and spend little '\n",
    "    \n",
    "                                ],\n",
    "                  'marketing':['no price incentives new product and aloyalti programs ',\n",
    "                               'use R AND F to further segment ',\n",
    "                               'market your most expensive products',\n",
    "                               'aggressive price incentives',\n",
    "                               'aggressive price incentives',\n",
    "                               'dont spend too much trying to re acquire '\n",
    "                      \n",
    "                  ]})\n",
    "obs"
   ]
  },
  {
   "cell_type": "markdown",
   "id": "d867dd3b",
   "metadata": {},
   "source": [
    "### 8. observation"
   ]
  },
  {
   "cell_type": "code",
   "execution_count": null,
   "id": "5a7e71a5",
   "metadata": {},
   "outputs": [],
   "source": [
    "1. we studied in depth th data its characterisrics and its distributions.\n",
    "2. we explored various questions related to customer behaviour and their residency and buying habits .\n",
    "3. we adopted two techniques to solve this business problem .\n",
    "-- using kmeans\n",
    "-- using rfm (recency frequenct monetary)\n",
    "4. both are used widely but rfm is much better that automatung the whole slution because \n",
    "we are more precise in identtifying the customer frequent buying habits and their spend .\n"
   ]
  },
  {
   "cell_type": "code",
   "execution_count": null,
   "id": "4e601b53",
   "metadata": {},
   "outputs": [],
   "source": []
  },
  {
   "cell_type": "code",
   "execution_count": null,
   "id": "68844b1b",
   "metadata": {},
   "outputs": [],
   "source": []
  },
  {
   "cell_type": "code",
   "execution_count": null,
   "id": "294d0ba5",
   "metadata": {},
   "outputs": [],
   "source": []
  },
  {
   "cell_type": "code",
   "execution_count": null,
   "id": "85a308d5",
   "metadata": {},
   "outputs": [],
   "source": []
  },
  {
   "cell_type": "code",
   "execution_count": null,
   "id": "1e1b132f",
   "metadata": {},
   "outputs": [],
   "source": []
  },
  {
   "cell_type": "code",
   "execution_count": null,
   "id": "fcbdf391",
   "metadata": {},
   "outputs": [],
   "source": []
  },
  {
   "cell_type": "code",
   "execution_count": null,
   "id": "d6a6cb27",
   "metadata": {},
   "outputs": [],
   "source": []
  },
  {
   "cell_type": "code",
   "execution_count": null,
   "id": "349b129d",
   "metadata": {},
   "outputs": [],
   "source": []
  },
  {
   "cell_type": "code",
   "execution_count": null,
   "id": "4c348e19",
   "metadata": {},
   "outputs": [],
   "source": []
  },
  {
   "cell_type": "code",
   "execution_count": null,
   "id": "455ef600",
   "metadata": {},
   "outputs": [],
   "source": []
  },
  {
   "cell_type": "code",
   "execution_count": null,
   "id": "3bdfc498",
   "metadata": {},
   "outputs": [],
   "source": []
  },
  {
   "cell_type": "code",
   "execution_count": null,
   "id": "e8242383",
   "metadata": {},
   "outputs": [],
   "source": []
  },
  {
   "cell_type": "code",
   "execution_count": null,
   "id": "9f0733f1",
   "metadata": {},
   "outputs": [],
   "source": []
  },
  {
   "cell_type": "code",
   "execution_count": null,
   "id": "09e7b958",
   "metadata": {},
   "outputs": [],
   "source": []
  },
  {
   "cell_type": "code",
   "execution_count": null,
   "id": "3e6e6c42",
   "metadata": {},
   "outputs": [],
   "source": []
  },
  {
   "cell_type": "code",
   "execution_count": null,
   "id": "dad974bf",
   "metadata": {},
   "outputs": [],
   "source": []
  },
  {
   "cell_type": "code",
   "execution_count": null,
   "id": "b2583196",
   "metadata": {},
   "outputs": [],
   "source": []
  },
  {
   "cell_type": "code",
   "execution_count": null,
   "id": "b954207d",
   "metadata": {},
   "outputs": [],
   "source": []
  },
  {
   "cell_type": "raw",
   "id": "34e32e05",
   "metadata": {},
   "source": []
  }
 ],
 "metadata": {
  "kernelspec": {
   "display_name": "Python 3 (ipykernel)",
   "language": "python",
   "name": "python3"
  },
  "language_info": {
   "codemirror_mode": {
    "name": "ipython",
    "version": 3
   },
   "file_extension": ".py",
   "mimetype": "text/x-python",
   "name": "python",
   "nbconvert_exporter": "python",
   "pygments_lexer": "ipython3",
   "version": "3.9.12"
  }
 },
 "nbformat": 4,
 "nbformat_minor": 5
}
